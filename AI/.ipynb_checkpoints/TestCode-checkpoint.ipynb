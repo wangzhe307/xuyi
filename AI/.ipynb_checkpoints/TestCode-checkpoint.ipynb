{
 "cells": [
  {
   "cell_type": "code",
   "execution_count": 1,
   "metadata": {},
   "outputs": [],
   "source": [
    "import os\n",
    "os.environ['CUDA_VISIBLE_DEVICES']='2'"
   ]
  },
  {
   "cell_type": "code",
   "execution_count": 2,
   "metadata": {},
   "outputs": [
    {
     "name": "stderr",
     "output_type": "stream",
     "text": [
      "Using TensorFlow backend.\n"
     ]
    }
   ],
   "source": [
    "from keras.layers import Conv2D,Input\n",
    "from keras.models import Model\n",
    "from keras.callbacks import ModelCheckpoint"
   ]
  },
  {
   "cell_type": "code",
   "execution_count": 20,
   "metadata": {},
   "outputs": [],
   "source": [
    "from DataGenerater import getTrainDataAndMask\n",
    "from DataGenerater import batch_generator\n",
    "import math\n",
    "from skimage.external import tifffile as tiff\n",
    "import numpy as np\n",
    "import matplotlib.pyplot as plt"
   ]
  },
  {
   "cell_type": "code",
   "execution_count": 4,
   "metadata": {},
   "outputs": [],
   "source": [
    "def defModel(input_shape,num_class):\n",
    "    ipt = Input(shape=input_shape)\n",
    "    ###################\n",
    "    x = Conv2D(10,kernel_size=3,padding='same',activation='relu')(ipt)\n",
    "    ###################\n",
    "    x = Conv2D(num_class,kernel_size=1,padding='same',activation='softmax')(x)\n",
    "    rg = Model(ipt,x)\n",
    "    rg.compile(loss='categorical_crossentropy',optimizer=\"adam\",metrics=['accuracy'])\n",
    "    return rg"
   ]
  },
  {
   "cell_type": "code",
   "execution_count": 23,
   "metadata": {},
   "outputs": [],
   "source": [
    "class Callbacks:\n",
    "    checkpoint = ModelCheckpoint(\"weight/test.h5\",save_best_only=True,save_weights_only=True)\n",
    "class TrainData:\n",
    "    trainX,trainY = getTrainDataAndMask(\"data/5056222_2016-07-02_RE1_3A_739012_part.tif\",\"data/kklabel.png\")\n",
    "class Model:\n",
    "    net = defModel(input_shape=(256,256,5),num_class=12)"
   ]
  },
  {
   "cell_type": "code",
   "execution_count": 29,
   "metadata": {},
   "outputs": [
    {
     "name": "stdout",
     "output_type": "stream",
     "text": [
      "Epoch 1/20\n",
      "200/200 [==============================] - 3s 14ms/step - loss: 1.9591 - acc: 0.2807 - val_loss: 1.8129 - val_acc: 0.4215\n",
      "Epoch 2/20\n",
      "200/200 [==============================] - 3s 13ms/step - loss: 1.8882 - acc: 0.3300 - val_loss: 1.4491 - val_acc: 0.8470\n",
      "Epoch 3/20\n",
      "200/200 [==============================] - 3s 13ms/step - loss: 1.8697 - acc: 0.3564 - val_loss: 1.8883 - val_acc: 0.1749\n",
      "Epoch 4/20\n",
      "200/200 [==============================] - 3s 13ms/step - loss: 1.6651 - acc: 0.4835 - val_loss: 1.8131 - val_acc: 0.2763\n",
      "Epoch 5/20\n",
      "200/200 [==============================] - 3s 13ms/step - loss: 1.6383 - acc: 0.4685 - val_loss: 1.2117 - val_acc: 0.8857\n",
      "Epoch 6/20\n",
      "200/200 [==============================] - 3s 13ms/step - loss: 1.6111 - acc: 0.4688 - val_loss: 1.6815 - val_acc: 0.4374\n",
      "Epoch 7/20\n",
      "200/200 [==============================] - 3s 13ms/step - loss: 1.6228 - acc: 0.4432 - val_loss: 1.9679 - val_acc: 0.2981\n",
      "Epoch 8/20\n",
      "200/200 [==============================] - 3s 14ms/step - loss: 1.5631 - acc: 0.4766 - val_loss: 1.7433 - val_acc: 0.3329\n",
      "Epoch 9/20\n",
      "200/200 [==============================] - 3s 13ms/step - loss: 1.5988 - acc: 0.4481 - val_loss: 1.1008 - val_acc: 0.7739\n",
      "Epoch 10/20\n",
      "200/200 [==============================] - 3s 13ms/step - loss: 1.5245 - acc: 0.4886 - val_loss: 1.7343 - val_acc: 0.2520\n",
      "Epoch 11/20\n",
      "200/200 [==============================] - 3s 13ms/step - loss: 1.5825 - acc: 0.4313 - val_loss: 1.5434 - val_acc: 0.3972\n",
      "Epoch 12/20\n",
      "200/200 [==============================] - 3s 13ms/step - loss: 1.5609 - acc: 0.4297 - val_loss: 1.3681 - val_acc: 0.5999\n",
      "Epoch 13/20\n",
      "200/200 [==============================] - 3s 13ms/step - loss: 1.5698 - acc: 0.4382 - val_loss: 1.5998 - val_acc: 0.2184\n",
      "Epoch 14/20\n",
      "200/200 [==============================] - 3s 13ms/step - loss: 1.5211 - acc: 0.4640 - val_loss: 1.2451 - val_acc: 0.6371\n",
      "Epoch 15/20\n",
      "200/200 [==============================] - 3s 13ms/step - loss: 1.5061 - acc: 0.4656 - val_loss: 1.3723 - val_acc: 0.5576\n",
      "Epoch 16/20\n",
      "200/200 [==============================] - 3s 13ms/step - loss: 1.4901 - acc: 0.4772 - val_loss: 1.1530 - val_acc: 0.6831\n",
      "Epoch 17/20\n",
      "200/200 [==============================] - 3s 13ms/step - loss: 1.5386 - acc: 0.4399 - val_loss: 1.6360 - val_acc: 0.3150\n",
      "Epoch 18/20\n",
      "200/200 [==============================] - 3s 13ms/step - loss: 1.4882 - acc: 0.4673 - val_loss: 1.4137 - val_acc: 0.4431\n",
      "Epoch 19/20\n",
      "200/200 [==============================] - 3s 13ms/step - loss: 1.4838 - acc: 0.4731 - val_loss: 0.8989 - val_acc: 0.8947\n",
      "Epoch 20/20\n",
      "200/200 [==============================] - 3s 13ms/step - loss: 1.5035 - acc: 0.4531 - val_loss: 1.4055 - val_acc: 0.4954\n"
     ]
    },
    {
     "data": {
      "text/plain": [
       "<keras.callbacks.History at 0x7f8ab7b54828>"
      ]
     },
     "execution_count": 29,
     "metadata": {},
     "output_type": "execute_result"
    }
   ],
   "source": [
    "Model.net.fit_generator(batch_generator(TrainData.trainX,TrainData.trainY,2),steps_per_epoch=200,\n",
    "                           validation_data = batch_generator(TrainData.trainX,TrainData.trainY,2),validation_steps=2,\n",
    "                           callbacks=[Callbacks.checkpoint],epochs=20,verbose=1)"
   ]
  },
  {
   "cell_type": "code",
   "execution_count": 30,
   "metadata": {},
   "outputs": [],
   "source": [
    "Model.net.load_weights(\"weight/test.h5\")"
   ]
  },
  {
   "cell_type": "code",
   "execution_count": 31,
   "metadata": {},
   "outputs": [],
   "source": [
    "def predictData(modelt,data_path):\n",
    "    x_img = tiff.imread(data_path)/255\n",
    "    ocr = np.zeros((math.ceil(x_img.shape[0]/256)*256,math.ceil(x_img.shape[1]/256)*256,5),'float16')\n",
    "    ocr[0:x_img.shape[0],0:x_img.shape[1],:]=x_img\n",
    "    tmp = np.zeros((math.ceil(x_img.shape[0]/256)*256,math.ceil(x_img.shape[1]/256)*256))\n",
    "    for i in range(int(ocr.shape[0]/128)-1):\n",
    "        for j in range(int(ocr.shape[1]/128)-1):\n",
    "            pred = modelt.predict(np.expand_dims(ocr[128*i:128*(i+1)+128,128*j:128*(j+1)+128,:],0))\n",
    "            pred = np.squeeze(pred)\n",
    "            tmp[128*i:128*(i+1)+128,128*j:128*(j+1)+128] = pred.argmax(axis=2)\n",
    "    rg =np.zeros((x_img.shape[0],x_img.shape[1]))\n",
    "    rg = tmp[0:x_img.shape[0],0:x_img.shape[1]]\n",
    "    tmpt = np.zeros((x_img.shape[0],x_img.shape[1],5))\n",
    "    for t in range(5):\n",
    "        tmpt[:,:,t]=rg\n",
    "    tmpt[x_img==0] = 0\n",
    "    return tmpt[:,:,0]"
   ]
  },
  {
   "cell_type": "code",
   "execution_count": 33,
   "metadata": {},
   "outputs": [],
   "source": [
    "result = predictData(Model.net,\"data/5056222_2016-07-02_RE1_3A_739012_part.tif\")"
   ]
  },
  {
   "cell_type": "code",
   "execution_count": 34,
   "metadata": {},
   "outputs": [
    {
     "data": {
      "text/plain": [
       "<matplotlib.image.AxesImage at 0x7f8ab7b7ff98>"
      ]
     },
     "execution_count": 34,
     "metadata": {},
     "output_type": "execute_result"
    },
    {
     "data": {
      "image/png": "[encoded data removed]",
      "text/plain": [
       "<Figure size 432x288 with 1 Axes>"
      ]
     },
     "metadata": {
      "needs_background": "light"
     },
     "output_type": "display_data"
    }
   ],
   "source": [
    "plt.imshow(result)"
   ]
  },
  {
   "cell_type": "code",
   "execution_count": null,
   "metadata": {},
   "outputs": [],
   "source": []
  }
 ],
 "metadata": {
  "kernelspec": {
   "display_name": "Python 3",
   "language": "python",
   "name": "python3"
  },
  "language_info": {
   "codemirror_mode": {
    "name": "ipython",
    "version": 3
   },
   "file_extension": ".py",
   "mimetype": "text/x-python",
   "name": "python",
   "nbconvert_exporter": "python",
   "pygments_lexer": "ipython3",
   "version": "3.6.0"
  }
 },
 "nbformat": 4,
 "nbformat_minor": 2
}
