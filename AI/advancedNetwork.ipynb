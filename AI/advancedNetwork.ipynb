{
 "cells": [
  {
   "cell_type": "code",
   "execution_count": 8,
   "metadata": {},
   "outputs": [],
   "source": [
    "import os\n",
    "os.environ['CUDA_VISIBLE_DEVICES']='2'"
   ]
  },
  {
   "cell_type": "code",
   "execution_count": 17,
   "metadata": {},
   "outputs": [],
   "source": [
    "from keras.layers import Conv2D,Input\n",
    "from keras.models import Model\n",
    "from keras.callbacks import ModelCheckpoint\n",
    "import tensorflow as tf\n",
    "from keras.layers import Lambda,Conv2DTranspose,UpSampling2D\n",
    "from keras.layers.convolutional import UpSampling2D\n",
    "from keras.layers import MaxPooling2D"
   ]
  },
  {
   "cell_type": "code",
   "execution_count": 10,
   "metadata": {},
   "outputs": [],
   "source": [
    "from DataGenerater import getTrainDataAndMask\n",
    "from DataGenerater import batch_generator\n",
    "import math\n",
    "from skimage.external import tifffile as tiff\n",
    "import numpy as np\n",
    "import matplotlib.pyplot as plt"
   ]
  },
  {
   "cell_type": "code",
   "execution_count": 11,
   "metadata": {},
   "outputs": [],
   "source": [
    "def tf_mean(input_x):\n",
    "    return tf.reduce_mean(input_x,keepdims=True)"
   ]
  },
  {
   "cell_type": "code",
   "execution_count": 12,
   "metadata": {},
   "outputs": [],
   "source": [
    "###this part is crucial to implemment custom layers\n",
    "def mean_layer(channels):\n",
    "    def mean_op(x):\n",
    "        return Lambda(tf_mean)(x)\n",
    "    return mean_op"
   ]
  },
  {
   "cell_type": "code",
   "execution_count": 18,
   "metadata": {},
   "outputs": [],
   "source": [
    "def defModel(input_shape,num_class):\n",
    "    ipt = Input(shape=input_shape)\n",
    "    ###################\n",
    "    \n",
    "    x = Conv2D(10,kernel_size=3,padding='same',activation='relu')(ipt)\n",
    "    x = mean_layer(10)(x)\n",
    "    x = UpSampling2D(size=(256,256))(x)\n",
    "    \n",
    "    ###################\n",
    "    x = Conv2D(num_class,kernel_size=1,padding='same',activation='softmax')(x)\n",
    "    rg = Model(ipt,x)\n",
    "    rg.compile(loss='categorical_crossentropy',optimizer=\"adam\",metrics=['accuracy'])\n",
    "    return rg"
   ]
  },
  {
   "cell_type": "code",
   "execution_count": 19,
   "metadata": {},
   "outputs": [],
   "source": [
    "class Callbacks:\n",
    "    checkpoint = ModelCheckpoint(\"weight/test.h5\",save_best_only=True,save_weights_only=True)\n",
    "class TrainData:\n",
    "    trainX,trainY = getTrainDataAndMask(\"data/5056222_2016-07-02_RE1_3A_739012_part.tif\",\"data/kklabel.png\")\n",
    "class Model:\n",
    "    net = defModel(input_shape=(256,256,5),num_class=12)"
   ]
  },
  {
   "cell_type": "code",
   "execution_count": 20,
   "metadata": {},
   "outputs": [
    {
     "name": "stdout",
     "output_type": "stream",
     "text": [
      "Epoch 1/20\n",
      "200/200 [==============================] - 6s 28ms/step - loss: 2.5743 - acc: 0.1385 - val_loss: 2.2068 - val_acc: 0.4657\n",
      "Epoch 2/20\n",
      "200/200 [==============================] - 4s 18ms/step - loss: 2.2549 - acc: 0.1716 - val_loss: 2.1415 - val_acc: 0.1584\n",
      "Epoch 3/20\n",
      "200/200 [==============================] - 4s 18ms/step - loss: 2.1714 - acc: 0.1873 - val_loss: 2.0724 - val_acc: 0.1867\n",
      "Epoch 4/20\n",
      "200/200 [==============================] - 4s 18ms/step - loss: 2.0670 - acc: 0.1996 - val_loss: 2.0281 - val_acc: 0.3208\n",
      "Epoch 5/20\n",
      "200/200 [==============================] - 4s 18ms/step - loss: 2.0024 - acc: 0.1990 - val_loss: 2.0123 - val_acc: 0.2551\n",
      "Epoch 6/20\n",
      "200/200 [==============================] - 4s 18ms/step - loss: 1.9614 - acc: 0.2642 - val_loss: 2.1181 - val_acc: 0.0422\n",
      "Epoch 7/20\n",
      "200/200 [==============================] - 4s 18ms/step - loss: 1.8856 - acc: 0.3347 - val_loss: 2.0428 - val_acc: 0.2679\n",
      "Epoch 8/20\n",
      "200/200 [==============================] - 4s 19ms/step - loss: 1.9178 - acc: 0.3107 - val_loss: 2.2095 - val_acc: 0.1451\n",
      "Epoch 9/20\n",
      "200/200 [==============================] - 4s 19ms/step - loss: 1.8740 - acc: 0.3256 - val_loss: 2.0469 - val_acc: 0.2252\n",
      "Epoch 10/20\n",
      "200/200 [==============================] - 4s 18ms/step - loss: 1.8371 - acc: 0.3539 - val_loss: 2.0332 - val_acc: 0.1123\n",
      "Epoch 11/20\n",
      "200/200 [==============================] - 4s 18ms/step - loss: 1.8563 - acc: 0.3220 - val_loss: 2.0905 - val_acc: 0.2294\n",
      "Epoch 12/20\n",
      "200/200 [==============================] - 4s 18ms/step - loss: 1.8438 - acc: 0.3365 - val_loss: 1.4588 - val_acc: 0.6521\n",
      "Epoch 13/20\n",
      "200/200 [==============================] - 4s 18ms/step - loss: 1.8747 - acc: 0.3087 - val_loss: 1.6312 - val_acc: 0.4701\n",
      "Epoch 14/20\n",
      "200/200 [==============================] - 4s 19ms/step - loss: 1.8537 - acc: 0.3186 - val_loss: 2.0509 - val_acc: 0.2165\n",
      "Epoch 15/20\n",
      "200/200 [==============================] - 4s 19ms/step - loss: 1.8427 - acc: 0.3252 - val_loss: 1.6242 - val_acc: 0.4134\n",
      "Epoch 16/20\n",
      "200/200 [==============================] - 4s 19ms/step - loss: 1.8400 - acc: 0.3302 - val_loss: 2.2318 - val_acc: 0.2118\n",
      "Epoch 17/20\n",
      "200/200 [==============================] - 4s 18ms/step - loss: 1.8331 - acc: 0.3426 - val_loss: 1.9460 - val_acc: 0.1880\n",
      "Epoch 18/20\n",
      "200/200 [==============================] - 4s 19ms/step - loss: 1.8494 - acc: 0.3190 - val_loss: 2.0855 - val_acc: 0.2832\n",
      "Epoch 19/20\n",
      "200/200 [==============================] - 4s 18ms/step - loss: 1.8407 - acc: 0.3289 - val_loss: 2.0331 - val_acc: 0.2886\n",
      "Epoch 20/20\n",
      "200/200 [==============================] - 4s 18ms/step - loss: 1.8213 - acc: 0.3378 - val_loss: 1.7419 - val_acc: 0.3749\n"
     ]
    },
    {
     "data": {
      "text/plain": [
       "<keras.callbacks.History at 0x7f421970ec18>"
      ]
     },
     "execution_count": 20,
     "metadata": {},
     "output_type": "execute_result"
    }
   ],
   "source": [
    "Model.net.fit_generator(batch_generator(TrainData.trainX,TrainData.trainY,2),steps_per_epoch=200,\n",
    "                           validation_data = batch_generator(TrainData.trainX,TrainData.trainY,2),validation_steps=2,\n",
    "                           callbacks=[Callbacks.checkpoint],epochs=20,verbose=1)"
   ]
  },
  {
   "cell_type": "code",
   "execution_count": 21,
   "metadata": {},
   "outputs": [],
   "source": [
    "Model.net.load_weights(\"weight/test.h5\")"
   ]
  },
  {
   "cell_type": "code",
   "execution_count": 22,
   "metadata": {},
   "outputs": [],
   "source": [
    "def predictData(modelt,data_path):\n",
    "    x_img = tiff.imread(data_path)/255\n",
    "    ocr = np.zeros((math.ceil(x_img.shape[0]/256)*256,math.ceil(x_img.shape[1]/256)*256,5),'float16')\n",
    "    ocr[0:x_img.shape[0],0:x_img.shape[1],:]=x_img\n",
    "    tmp = np.zeros((math.ceil(x_img.shape[0]/256)*256,math.ceil(x_img.shape[1]/256)*256))\n",
    "    for i in range(int(ocr.shape[0]/128)-1):\n",
    "        for j in range(int(ocr.shape[1]/128)-1):\n",
    "            pred = modelt.predict(np.expand_dims(ocr[128*i:128*(i+1)+128,128*j:128*(j+1)+128,:],0))\n",
    "            pred = np.squeeze(pred)\n",
    "            tmp[128*i:128*(i+1)+128,128*j:128*(j+1)+128] = pred.argmax(axis=2)\n",
    "    rg =np.zeros((x_img.shape[0],x_img.shape[1]))\n",
    "    rg = tmp[0:x_img.shape[0],0:x_img.shape[1]]\n",
    "    tmpt = np.zeros((x_img.shape[0],x_img.shape[1],5))\n",
    "    for t in range(5):\n",
    "        tmpt[:,:,t]=rg\n",
    "    tmpt[x_img==0] = 0\n",
    "    return tmpt[:,:,0]"
   ]
  },
  {
   "cell_type": "code",
   "execution_count": 23,
   "metadata": {},
   "outputs": [],
   "source": [
    "result = predictData(Model.net,\"data/5056222_2016-07-02_RE1_3A_739012_part.tif\")"
   ]
  },
  {
   "cell_type": "code",
   "execution_count": 24,
   "metadata": {},
   "outputs": [
    {
     "data": {
      "text/plain": [
       "<matplotlib.image.AxesImage at 0x7f41e8069128>"
      ]
     },
     "execution_count": 24,
     "metadata": {},
     "output_type": "execute_result"
    },
    {
     "data": {
      "image/png": "[encoded data removed]",
      "text/plain": [
       "<Figure size 432x288 with 1 Axes>"
      ]
     },
     "metadata": {
      "needs_background": "light"
     },
     "output_type": "display_data"
    }
   ],
   "source": [
    "plt.imshow(result)"
   ]
  },
  {
   "cell_type": "code",
   "execution_count": null,
   "metadata": {},
   "outputs": [],
   "source": []
  }
 ],
 "metadata": {
  "kernelspec": {
   "display_name": "Python 3",
   "language": "python",
   "name": "python3"
  },
  "language_info": {
   "codemirror_mode": {
    "name": "ipython",
    "version": 3
   },
   "file_extension": ".py",
   "mimetype": "text/x-python",
   "name": "python",
   "nbconvert_exporter": "python",
   "pygments_lexer": "ipython3",
   "version": "3.6.0"
  }
 },
 "nbformat": 4,
 "nbformat_minor": 2
}
