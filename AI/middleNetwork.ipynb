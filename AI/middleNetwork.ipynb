{
 "cells": [
  {
   "cell_type": "code",
   "execution_count": 1,
   "metadata": {},
   "outputs": [],
   "source": [
    "import os\n",
    "os.environ['CUDA_VISIBLE_DEVICES']='2'"
   ]
  },
  {
   "cell_type": "code",
   "execution_count": 2,
   "metadata": {},
   "outputs": [
    {
     "name": "stderr",
     "output_type": "stream",
     "text": [
      "Using TensorFlow backend.\n"
     ]
    }
   ],
   "source": [
    "from keras.layers import Conv2D,Input\n",
    "from keras.models import Model\n",
    "from keras.callbacks import ModelCheckpoint\n",
    "from keras.layers import concatenate"
   ]
  },
  {
   "cell_type": "code",
   "execution_count": 3,
   "metadata": {},
   "outputs": [],
   "source": [
    "from middleDataGenerator import getTrainDataAndMask\n",
    "from middleDataGenerator import batch_generator\n",
    "import math\n",
    "from skimage.external import tifffile as tiff\n",
    "import numpy as np\n",
    "import matplotlib.pyplot as plt"
   ]
  },
  {
   "cell_type": "code",
   "execution_count": 4,
   "metadata": {},
   "outputs": [],
   "source": [
    "class branch1Network():\n",
    "    def __init__(self,input_shape):\n",
    "        self.input_shape=input_shape\n",
    "        self.input = Input(self.input_shape)\n",
    "    def network(self):\n",
    "        x = Conv2D(24,kernel_size=1,padding='same',activation='relu')(self.input)\n",
    "        return x\n",
    "\n",
    "class branch2Network():\n",
    "    def __init__(self,input_shape):\n",
    "        self.input_shape=input_shape\n",
    "        self.input = Input(self.input_shape)\n",
    "    def network(self):\n",
    "        x = Conv2D(24,kernel_size=1,padding='same',activation='relu')(self.input)\n",
    "        return x\n",
    "\n",
    "class branch3Network():\n",
    "    def __init__(self,input_shape):\n",
    "        self.input_shape=input_shape\n",
    "        self.input = Input(self.input_shape)\n",
    "    def network(self):\n",
    "        x = Conv2D(24,kernel_size=1,padding='same',activation='relu')(self.input)\n",
    "        return x\n",
    "\n",
    "def defModel(input_shape,num_class):\n",
    "    x1 = branch1Network(input_shape)\n",
    "    x2 = branch2Network(input_shape)\n",
    "    x3 = branch3Network(input_shape)\n",
    "    x = concatenate([x1.network(),x2.network(),x3.network()],axis=3)\n",
    "    \n",
    "    ####################\n",
    "    x = Conv2D(num_class,kernel_size=1,padding='same',activation='softmax')(x)\n",
    "    rg = Model([x1.input,x2.input,x3.input],x)\n",
    "    rg.compile(loss='categorical_crossentropy',optimizer=\"adam\",metrics=['accuracy'])\n",
    "    return rg"
   ]
  },
  {
   "cell_type": "code",
   "execution_count": 5,
   "metadata": {},
   "outputs": [],
   "source": [
    "class Callbacks:\n",
    "    checkpoint = ModelCheckpoint(\"weight/test.h5\",save_best_only=True,save_weights_only=True)\n",
    "class TrainData:\n",
    "    trainX,trainY = getTrainDataAndMask(\"data/5056222_2016-07-02_RE1_3A_739012_part.tif\",\"data/kklabel.png\")\n",
    "class Model:\n",
    "    net = defModel(input_shape=(256,256,5),num_class=12)"
   ]
  },
  {
   "cell_type": "code",
   "execution_count": 6,
   "metadata": {},
   "outputs": [
    {
     "name": "stdout",
     "output_type": "stream",
     "text": [
      "Epoch 1/20\n",
      "200/200 [==============================] - 8s 39ms/step - loss: 3.3383 - acc: 0.3952 - val_loss: 1.8390 - val_acc: 0.3574\n",
      "Epoch 2/20\n",
      "200/200 [==============================] - 6s 29ms/step - loss: 2.0941 - acc: 0.4457 - val_loss: 6.5551 - val_acc: 0.3600\n",
      "Epoch 3/20\n",
      "200/200 [==============================] - 6s 29ms/step - loss: 2.2930 - acc: 0.4309 - val_loss: 1.2223 - val_acc: 0.5289\n",
      "Epoch 4/20\n",
      "200/200 [==============================] - 6s 30ms/step - loss: 2.2488 - acc: 0.4447 - val_loss: 1.6415 - val_acc: 0.4552\n",
      "Epoch 5/20\n",
      "200/200 [==============================] - 6s 29ms/step - loss: 2.0632 - acc: 0.4783 - val_loss: 2.4262 - val_acc: 0.4052\n",
      "Epoch 6/20\n",
      "200/200 [==============================] - 6s 30ms/step - loss: 2.0134 - acc: 0.4589 - val_loss: 1.5162 - val_acc: 0.4982\n",
      "Epoch 7/20\n",
      "200/200 [==============================] - 6s 28ms/step - loss: 2.0886 - acc: 0.4687 - val_loss: 1.4474 - val_acc: 0.5091\n",
      "Epoch 8/20\n",
      "200/200 [==============================] - 6s 30ms/step - loss: 2.1638 - acc: 0.4314 - val_loss: 1.2682 - val_acc: 0.6505\n",
      "Epoch 9/20\n",
      "200/200 [==============================] - 6s 30ms/step - loss: 2.0910 - acc: 0.4532 - val_loss: 1.9905 - val_acc: 0.2976\n",
      "Epoch 10/20\n",
      "200/200 [==============================] - 6s 28ms/step - loss: 2.0025 - acc: 0.4339 - val_loss: 4.1903 - val_acc: 0.5125\n",
      "Epoch 11/20\n",
      "200/200 [==============================] - 6s 28ms/step - loss: 2.0498 - acc: 0.4444 - val_loss: 1.3021 - val_acc: 0.4707\n",
      "Epoch 12/20\n",
      "200/200 [==============================] - 6s 28ms/step - loss: 1.9880 - acc: 0.4826 - val_loss: 3.3089 - val_acc: 0.5135\n",
      "Epoch 13/20\n",
      "200/200 [==============================] - 6s 28ms/step - loss: 2.1532 - acc: 0.4885 - val_loss: 1.9090 - val_acc: 0.2939\n",
      "Epoch 14/20\n",
      "200/200 [==============================] - 6s 28ms/step - loss: 2.3392 - acc: 0.4392 - val_loss: 3.8225 - val_acc: 0.4718\n",
      "Epoch 15/20\n",
      "200/200 [==============================] - 6s 28ms/step - loss: 2.1208 - acc: 0.4545 - val_loss: 2.1754 - val_acc: 0.3946\n",
      "Epoch 16/20\n",
      "200/200 [==============================] - 6s 28ms/step - loss: 2.2635 - acc: 0.4758 - val_loss: 1.7538 - val_acc: 0.5321\n",
      "Epoch 17/20\n",
      "200/200 [==============================] - 6s 28ms/step - loss: 2.1590 - acc: 0.4733 - val_loss: 1.3994 - val_acc: 0.4535\n",
      "Epoch 18/20\n",
      "200/200 [==============================] - 6s 28ms/step - loss: 2.0646 - acc: 0.4674 - val_loss: 1.8116 - val_acc: 0.4180\n",
      "Epoch 19/20\n",
      "200/200 [==============================] - 6s 28ms/step - loss: 2.1546 - acc: 0.4787 - val_loss: 1.4124 - val_acc: 0.5593\n",
      "Epoch 20/20\n",
      "200/200 [==============================] - 6s 28ms/step - loss: 2.0491 - acc: 0.4819 - val_loss: 3.6769 - val_acc: 0.6654\n"
     ]
    },
    {
     "data": {
      "text/plain": [
       "<keras.callbacks.History at 0x7f6972d16a90>"
      ]
     },
     "execution_count": 6,
     "metadata": {},
     "output_type": "execute_result"
    }
   ],
   "source": [
    "Model.net.fit_generator(batch_generator(TrainData.trainX,TrainData.trainY,2),steps_per_epoch=200,\n",
    "                           validation_data = batch_generator(TrainData.trainX,TrainData.trainY,2),validation_steps=2,\n",
    "                           callbacks=[Callbacks.checkpoint],epochs=20,verbose=1)"
   ]
  },
  {
   "cell_type": "code",
   "execution_count": 7,
   "metadata": {},
   "outputs": [],
   "source": [
    "Model.net.load_weights(\"weight/test.h5\")"
   ]
  },
  {
   "cell_type": "code",
   "execution_count": 8,
   "metadata": {},
   "outputs": [],
   "source": [
    "def predictData(modelt,data_path):\n",
    "    x_img = tiff.imread(data_path)/255\n",
    "    ocr = np.zeros((math.ceil(x_img.shape[0]/256)*256,math.ceil(x_img.shape[1]/256)*256,5),'float16')\n",
    "    ocr[0:x_img.shape[0],0:x_img.shape[1],:]=x_img\n",
    "    tmp = np.zeros((math.ceil(x_img.shape[0]/256)*256,math.ceil(x_img.shape[1]/256)*256))\n",
    "    for i in range(int(ocr.shape[0]/128)-1):\n",
    "        for j in range(int(ocr.shape[1]/128)-1):\n",
    "            pred = modelt.predict([np.expand_dims(ocr[128*i:128*(i+1)+128,128*j:128*(j+1)+128,:],0),\n",
    "                                   np.expand_dims(ocr[128*i:128*(i+1)+128,128*j:128*(j+1)+128,:],0),\n",
    "                                   np.expand_dims(ocr[128*i:128*(i+1)+128,128*j:128*(j+1)+128,:],0)])\n",
    "            pred = np.squeeze(pred)\n",
    "            tmp[128*i:128*(i+1)+128,128*j:128*(j+1)+128] = pred.argmax(axis=2)\n",
    "    rg =np.zeros((x_img.shape[0],x_img.shape[1]))\n",
    "    rg = tmp[0:x_img.shape[0],0:x_img.shape[1]]\n",
    "    tmpt = np.zeros((x_img.shape[0],x_img.shape[1],5))\n",
    "    for t in range(5):\n",
    "        tmpt[:,:,t]=rg\n",
    "    tmpt[x_img==0] = 0\n",
    "    return tmpt[:,:,0]"
   ]
  },
  {
   "cell_type": "code",
   "execution_count": 9,
   "metadata": {},
   "outputs": [],
   "source": [
    "result = predictData(Model.net,\"data/5056222_2016-07-02_RE1_3A_739012_part.tif\")"
   ]
  },
  {
   "cell_type": "code",
   "execution_count": 10,
   "metadata": {},
   "outputs": [
    {
     "data": {
      "text/plain": [
       "<matplotlib.image.AxesImage at 0x7f6970bc97b8>"
      ]
     },
     "execution_count": 10,
     "metadata": {},
     "output_type": "execute_result"
    },
    {
     "data": {
      "image/png": "[encoded data removed]",
      "text/plain": [
       "<Figure size 432x288 with 1 Axes>"
      ]
     },
     "metadata": {
      "needs_background": "light"
     },
     "output_type": "display_data"
    }
   ],
   "source": [
    "plt.imshow(result)"
   ]
  },
  {
   "cell_type": "code",
   "execution_count": null,
   "metadata": {},
   "outputs": [],
   "source": []
  }
 ],
 "metadata": {
  "kernelspec": {
   "display_name": "Python 3",
   "language": "python",
   "name": "python3"
  },
  "language_info": {
   "codemirror_mode": {
    "name": "ipython",
    "version": 3
   },
   "file_extension": ".py",
   "mimetype": "text/x-python",
   "name": "python",
   "nbconvert_exporter": "python",
   "pygments_lexer": "ipython3",
   "version": "3.6.0"
  }
 },
 "nbformat": 4,
 "nbformat_minor": 2
}
