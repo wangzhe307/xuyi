{
 "cells": [
  {
   "cell_type": "code",
   "execution_count": 1,
   "metadata": {},
   "outputs": [],
   "source": [
    "from catboost import CatBoostClassifier\n",
    "from sklearn.ensemble import RandomForestClassifier\n",
    "import numpy as np\n",
    "import cv2\n",
    "from sklearn.externals import joblib\n",
    "from skimage.external import tifffile"
   ]
  },
  {
   "cell_type": "code",
   "execution_count": 2,
   "metadata": {},
   "outputs": [],
   "source": [
    "imgf=cv2.imread(\"/Users/wanggang/Desktop/2015/shp2png/cloud_positive.png\",0)\n",
    "imgz=cv2.imread(\"/Users/wanggang/Desktop/2015/shp2png/cloud_negative.png\",0)\n",
    "\n",
    "tmpf = np.zeros((imgf.shape[0],imgf.shape[1]))\n",
    "tmpf[imgf==1]=2\n",
    "\n",
    "label = np.zeros((imgf.shape[0],imgf.shape[1]))\n",
    "label=label+imgz\n",
    "label=label+tmpf\n",
    "#label[label==3]=1"
   ]
  },
  {
   "cell_type": "code",
   "execution_count": 3,
   "metadata": {},
   "outputs": [
    {
     "data": {
      "text/plain": [
       "(array([0., 1., 2.]), array([58847088,   291029,   933484]))"
      ]
     },
     "execution_count": 3,
     "metadata": {},
     "output_type": "execute_result"
    }
   ],
   "source": [
    "np.unique(label,return_counts=True)"
   ]
  },
  {
   "cell_type": "code",
   "execution_count": 4,
   "metadata": {},
   "outputs": [],
   "source": [
    "input_image = tifffile.imread(\"/Users/wanggang/desktop/jianfengbiaozhu/LC81210402015156LGN00_merge.tif\")\n",
    "output_image = label"
   ]
  },
  {
   "cell_type": "code",
   "execution_count": 5,
   "metadata": {},
   "outputs": [],
   "source": [
    "def get_train_data(input_image,output_image):\n",
    "    need_label = np.zeros([output_image.shape[0],output_image.shape[1]])\n",
    "    for i in range(output_image.shape[0]):\n",
    "        for j in range(output_image.shape[1]):\n",
    "            if output_image[i][j] != 0 and output_image[i][j]!=3:\n",
    "            #if output_image[i][j] in [1,2,3,4,5,6,7,8,9]:\n",
    "                need_label[i][j] = output_image[i][j]\n",
    "    new_datawithlabel_list = []\n",
    "    for i in range(output_image.shape[0]):\n",
    "        for j in range(output_image.shape[1]):\n",
    "            if need_label[i][j] != 0:\n",
    "                c2l = list(input_image[i][j])\n",
    "                c2l.append(need_label[i][j])\n",
    "                new_datawithlabel_list.append(c2l)\n",
    "    new_datawithlabel_array = np.array(new_datawithlabel_list)\n",
    "    dataL = new_datawithlabel_array[:,:-1]\n",
    "    labelL = new_datawithlabel_array[:,-1]\n",
    "    return dataL,labelL"
   ]
  },
  {
   "cell_type": "code",
   "execution_count": 6,
   "metadata": {},
   "outputs": [],
   "source": [
    "dataL,labelL = get_train_data(input_image,output_image)"
   ]
  },
  {
   "cell_type": "code",
   "execution_count": 7,
   "metadata": {},
   "outputs": [],
   "source": [
    "ttlabel = np.zeros((labelL.shape[0],))"
   ]
  },
  {
   "cell_type": "code",
   "execution_count": 8,
   "metadata": {},
   "outputs": [],
   "source": [
    "ttlabel[labelL==1]=0\n",
    "ttlabel[labelL==2]=1"
   ]
  },
  {
   "cell_type": "code",
   "execution_count": 9,
   "metadata": {},
   "outputs": [
    {
     "data": {
      "text/plain": [
       "array([0., 1.])"
      ]
     },
     "execution_count": 9,
     "metadata": {},
     "output_type": "execute_result"
    }
   ],
   "source": [
    "np.unique(ttlabel)"
   ]
  },
  {
   "cell_type": "code",
   "execution_count": 10,
   "metadata": {},
   "outputs": [
    {
     "name": "stdout",
     "output_type": "stream",
     "text": [
      "0:\tlearn: -0.6682360\ttotal: 590ms\tremaining: 1m 57s\n",
      "1:\tlearn: -0.6447490\ttotal: 1.11s\tremaining: 1m 49s\n",
      "2:\tlearn: -0.6224415\ttotal: 1.7s\tremaining: 1m 51s\n",
      "3:\tlearn: -0.6014469\ttotal: 2.22s\tremaining: 1m 48s\n",
      "4:\tlearn: -0.5815225\ttotal: 2.72s\tremaining: 1m 46s\n",
      "5:\tlearn: -0.5626315\ttotal: 3.24s\tremaining: 1m 44s\n",
      "6:\tlearn: -0.5447346\ttotal: 3.75s\tremaining: 1m 43s\n",
      "7:\tlearn: -0.5277151\ttotal: 4.28s\tremaining: 1m 42s\n",
      "8:\tlearn: -0.5114537\ttotal: 4.8s\tremaining: 1m 41s\n",
      "9:\tlearn: -0.4959908\ttotal: 5.32s\tremaining: 1m 41s\n",
      "10:\tlearn: -0.4813024\ttotal: 5.87s\tremaining: 1m 40s\n",
      "11:\tlearn: -0.4672189\ttotal: 6.39s\tremaining: 1m 40s\n",
      "12:\tlearn: -0.4538528\ttotal: 6.91s\tremaining: 1m 39s\n",
      "13:\tlearn: -0.4410233\ttotal: 7.41s\tremaining: 1m 38s\n",
      "14:\tlearn: -0.4287965\ttotal: 7.92s\tremaining: 1m 37s\n",
      "15:\tlearn: -0.4170456\ttotal: 8.43s\tremaining: 1m 36s\n",
      "16:\tlearn: -0.4059465\ttotal: 8.95s\tremaining: 1m 36s\n",
      "17:\tlearn: -0.3952187\ttotal: 9.45s\tremaining: 1m 35s\n",
      "18:\tlearn: -0.3848900\ttotal: 9.96s\tremaining: 1m 34s\n",
      "19:\tlearn: -0.3748642\ttotal: 10.5s\tremaining: 1m 34s\n",
      "20:\tlearn: -0.3653723\ttotal: 11s\tremaining: 1m 33s\n",
      "21:\tlearn: -0.3561525\ttotal: 11.5s\tremaining: 1m 33s\n",
      "22:\tlearn: -0.3473942\ttotal: 12s\tremaining: 1m 32s\n",
      "23:\tlearn: -0.3389005\ttotal: 12.5s\tremaining: 1m 31s\n",
      "24:\tlearn: -0.3308392\ttotal: 13.1s\tremaining: 1m 31s\n",
      "25:\tlearn: -0.3230159\ttotal: 13.6s\tremaining: 1m 30s\n",
      "26:\tlearn: -0.3154955\ttotal: 14.1s\tremaining: 1m 30s\n",
      "27:\tlearn: -0.3082132\ttotal: 14.7s\tremaining: 1m 30s\n",
      "28:\tlearn: -0.3011979\ttotal: 15.2s\tremaining: 1m 29s\n",
      "29:\tlearn: -0.2945233\ttotal: 15.7s\tremaining: 1m 28s\n",
      "30:\tlearn: -0.2880927\ttotal: 16.2s\tremaining: 1m 28s\n",
      "31:\tlearn: -0.2817081\ttotal: 16.7s\tremaining: 1m 27s\n",
      "32:\tlearn: -0.2756302\ttotal: 17.2s\tremaining: 1m 27s\n",
      "33:\tlearn: -0.2697197\ttotal: 17.7s\tremaining: 1m 26s\n",
      "34:\tlearn: -0.2639898\ttotal: 18.2s\tremaining: 1m 25s\n",
      "35:\tlearn: -0.2585689\ttotal: 18.7s\tremaining: 1m 25s\n",
      "36:\tlearn: -0.2534077\ttotal: 19.3s\tremaining: 1m 24s\n",
      "37:\tlearn: -0.2482384\ttotal: 19.8s\tremaining: 1m 24s\n",
      "38:\tlearn: -0.2433061\ttotal: 20.3s\tremaining: 1m 23s\n",
      "39:\tlearn: -0.2385954\ttotal: 20.8s\tremaining: 1m 23s\n",
      "40:\tlearn: -0.2341078\ttotal: 21.3s\tremaining: 1m 22s\n",
      "41:\tlearn: -0.2295901\ttotal: 21.8s\tremaining: 1m 22s\n",
      "42:\tlearn: -0.2252597\ttotal: 22.4s\tremaining: 1m 21s\n",
      "43:\tlearn: -0.2212116\ttotal: 22.9s\tremaining: 1m 21s\n",
      "44:\tlearn: -0.2171370\ttotal: 23.4s\tremaining: 1m 20s\n",
      "45:\tlearn: -0.2133848\ttotal: 23.9s\tremaining: 1m 20s\n",
      "46:\tlearn: -0.2096272\ttotal: 24.4s\tremaining: 1m 19s\n",
      "47:\tlearn: -0.2059301\ttotal: 24.9s\tremaining: 1m 18s\n",
      "48:\tlearn: -0.2023517\ttotal: 25.5s\tremaining: 1m 18s\n",
      "49:\tlearn: -0.1990531\ttotal: 26s\tremaining: 1m 17s\n",
      "50:\tlearn: -0.1957651\ttotal: 26.5s\tremaining: 1m 17s\n",
      "51:\tlearn: -0.1925692\ttotal: 27s\tremaining: 1m 16s\n",
      "52:\tlearn: -0.1894646\ttotal: 27.5s\tremaining: 1m 16s\n",
      "53:\tlearn: -0.1864865\ttotal: 28s\tremaining: 1m 15s\n",
      "54:\tlearn: -0.1837044\ttotal: 28.6s\tremaining: 1m 15s\n",
      "55:\tlearn: -0.1810762\ttotal: 29.1s\tremaining: 1m 14s\n",
      "56:\tlearn: -0.1783116\ttotal: 29.6s\tremaining: 1m 14s\n",
      "57:\tlearn: -0.1755237\ttotal: 30.1s\tremaining: 1m 13s\n",
      "58:\tlearn: -0.1729030\ttotal: 30.6s\tremaining: 1m 13s\n",
      "59:\tlearn: -0.1703574\ttotal: 31.2s\tremaining: 1m 12s\n",
      "60:\tlearn: -0.1679065\ttotal: 31.7s\tremaining: 1m 12s\n",
      "61:\tlearn: -0.1655180\ttotal: 32.2s\tremaining: 1m 11s\n",
      "62:\tlearn: -0.1631821\ttotal: 32.7s\tremaining: 1m 11s\n",
      "63:\tlearn: -0.1610932\ttotal: 33.2s\tremaining: 1m 10s\n",
      "64:\tlearn: -0.1589964\ttotal: 33.7s\tremaining: 1m 10s\n",
      "65:\tlearn: -0.1568588\ttotal: 34.3s\tremaining: 1m 9s\n",
      "66:\tlearn: -0.1548225\ttotal: 34.8s\tremaining: 1m 9s\n",
      "67:\tlearn: -0.1527956\ttotal: 35.3s\tremaining: 1m 8s\n",
      "68:\tlearn: -0.1508806\ttotal: 35.8s\tremaining: 1m 8s\n",
      "69:\tlearn: -0.1490093\ttotal: 36.4s\tremaining: 1m 7s\n",
      "70:\tlearn: -0.1473004\ttotal: 36.9s\tremaining: 1m 7s\n",
      "71:\tlearn: -0.1454525\ttotal: 37.4s\tremaining: 1m 6s\n",
      "72:\tlearn: -0.1436765\ttotal: 37.9s\tremaining: 1m 5s\n",
      "73:\tlearn: -0.1419863\ttotal: 38.4s\tremaining: 1m 5s\n",
      "74:\tlearn: -0.1403612\ttotal: 39s\tremaining: 1m 4s\n",
      "75:\tlearn: -0.1387630\ttotal: 39.5s\tremaining: 1m 4s\n",
      "76:\tlearn: -0.1371765\ttotal: 40s\tremaining: 1m 3s\n",
      "77:\tlearn: -0.1356062\ttotal: 40.5s\tremaining: 1m 3s\n",
      "78:\tlearn: -0.1341147\ttotal: 41s\tremaining: 1m 2s\n",
      "79:\tlearn: -0.1327662\ttotal: 41.5s\tremaining: 1m 2s\n",
      "80:\tlearn: -0.1314153\ttotal: 42.1s\tremaining: 1m 1s\n",
      "81:\tlearn: -0.1302128\ttotal: 42.6s\tremaining: 1m 1s\n",
      "82:\tlearn: -0.1289179\ttotal: 43.1s\tremaining: 1m\n",
      "83:\tlearn: -0.1276190\ttotal: 43.6s\tremaining: 1m\n",
      "84:\tlearn: -0.1263664\ttotal: 44.1s\tremaining: 59.7s\n",
      "85:\tlearn: -0.1251664\ttotal: 44.7s\tremaining: 59.2s\n",
      "86:\tlearn: -0.1240926\ttotal: 45.2s\tremaining: 58.7s\n",
      "87:\tlearn: -0.1230525\ttotal: 45.7s\tremaining: 58.2s\n",
      "88:\tlearn: -0.1220423\ttotal: 46.2s\tremaining: 57.6s\n",
      "89:\tlearn: -0.1209263\ttotal: 46.7s\tremaining: 57.1s\n",
      "90:\tlearn: -0.1198658\ttotal: 47.2s\tremaining: 56.6s\n",
      "91:\tlearn: -0.1188987\ttotal: 47.8s\tremaining: 56.1s\n",
      "92:\tlearn: -0.1179424\ttotal: 48.3s\tremaining: 55.5s\n",
      "93:\tlearn: -0.1169953\ttotal: 48.8s\tremaining: 55s\n",
      "94:\tlearn: -0.1160172\ttotal: 49.3s\tremaining: 54.5s\n",
      "95:\tlearn: -0.1150786\ttotal: 49.9s\tremaining: 54s\n",
      "96:\tlearn: -0.1142317\ttotal: 50.4s\tremaining: 53.5s\n",
      "97:\tlearn: -0.1134353\ttotal: 50.9s\tremaining: 53s\n",
      "98:\tlearn: -0.1126455\ttotal: 51.4s\tremaining: 52.5s\n",
      "99:\tlearn: -0.1118586\ttotal: 51.9s\tremaining: 51.9s\n",
      "100:\tlearn: -0.1110163\ttotal: 52.5s\tremaining: 51.4s\n",
      "101:\tlearn: -0.1102273\ttotal: 53s\tremaining: 50.9s\n",
      "102:\tlearn: -0.1095073\ttotal: 53.5s\tremaining: 50.4s\n",
      "103:\tlearn: -0.1088235\ttotal: 54.1s\tremaining: 49.9s\n",
      "104:\tlearn: -0.1080488\ttotal: 54.6s\tremaining: 49.4s\n",
      "105:\tlearn: -0.1073644\ttotal: 55.1s\tremaining: 48.9s\n",
      "106:\tlearn: -0.1067318\ttotal: 55.6s\tremaining: 48.3s\n",
      "107:\tlearn: -0.1061133\ttotal: 56.1s\tremaining: 47.8s\n",
      "108:\tlearn: -0.1054769\ttotal: 56.6s\tremaining: 47.3s\n",
      "109:\tlearn: -0.1048640\ttotal: 57.2s\tremaining: 46.8s\n",
      "110:\tlearn: -0.1043159\ttotal: 57.7s\tremaining: 46.2s\n",
      "111:\tlearn: -0.1036458\ttotal: 58.2s\tremaining: 45.7s\n",
      "112:\tlearn: -0.1030434\ttotal: 58.7s\tremaining: 45.2s\n",
      "113:\tlearn: -0.1023546\ttotal: 59.2s\tremaining: 44.7s\n",
      "114:\tlearn: -0.1017683\ttotal: 59.7s\tremaining: 44.1s\n",
      "115:\tlearn: -0.1012096\ttotal: 1m\tremaining: 43.6s\n",
      "116:\tlearn: -0.1006269\ttotal: 1m\tremaining: 43.1s\n",
      "117:\tlearn: -0.1000330\ttotal: 1m 1s\tremaining: 42.6s\n",
      "118:\tlearn: -0.0994460\ttotal: 1m 1s\tremaining: 42.1s\n",
      "119:\tlearn: -0.0989389\ttotal: 1m 2s\tremaining: 41.5s\n",
      "120:\tlearn: -0.0984887\ttotal: 1m 2s\tremaining: 41s\n",
      "121:\tlearn: -0.0981255\ttotal: 1m 3s\tremaining: 40.5s\n",
      "122:\tlearn: -0.0976049\ttotal: 1m 3s\tremaining: 40s\n",
      "123:\tlearn: -0.0971520\ttotal: 1m 4s\tremaining: 39.4s\n",
      "124:\tlearn: -0.0967289\ttotal: 1m 4s\tremaining: 38.9s\n",
      "125:\tlearn: -0.0962710\ttotal: 1m 5s\tremaining: 38.4s\n",
      "126:\tlearn: -0.0958304\ttotal: 1m 5s\tremaining: 37.9s\n",
      "127:\tlearn: -0.0953975\ttotal: 1m 6s\tremaining: 37.3s\n",
      "128:\tlearn: -0.0949786\ttotal: 1m 6s\tremaining: 36.8s\n",
      "129:\tlearn: -0.0945226\ttotal: 1m 7s\tremaining: 36.3s\n",
      "130:\tlearn: -0.0941051\ttotal: 1m 7s\tremaining: 35.8s\n",
      "131:\tlearn: -0.0937909\ttotal: 1m 8s\tremaining: 35.3s\n",
      "132:\tlearn: -0.0933005\ttotal: 1m 8s\tremaining: 34.7s\n",
      "133:\tlearn: -0.0929218\ttotal: 1m 9s\tremaining: 34.2s\n",
      "134:\tlearn: -0.0925118\ttotal: 1m 10s\tremaining: 33.7s\n",
      "135:\tlearn: -0.0922108\ttotal: 1m 10s\tremaining: 33.2s\n",
      "136:\tlearn: -0.0918857\ttotal: 1m 11s\tremaining: 32.7s\n",
      "137:\tlearn: -0.0915548\ttotal: 1m 11s\tremaining: 32.1s\n",
      "138:\tlearn: -0.0911712\ttotal: 1m 12s\tremaining: 31.6s\n",
      "139:\tlearn: -0.0908155\ttotal: 1m 12s\tremaining: 31.1s\n",
      "140:\tlearn: -0.0904743\ttotal: 1m 13s\tremaining: 30.6s\n",
      "141:\tlearn: -0.0900393\ttotal: 1m 13s\tremaining: 30.1s\n",
      "142:\tlearn: -0.0896126\ttotal: 1m 14s\tremaining: 29.6s\n",
      "143:\tlearn: -0.0892120\ttotal: 1m 14s\tremaining: 29s\n",
      "144:\tlearn: -0.0888558\ttotal: 1m 15s\tremaining: 28.5s\n",
      "145:\tlearn: -0.0885401\ttotal: 1m 15s\tremaining: 28s\n",
      "146:\tlearn: -0.0882534\ttotal: 1m 16s\tremaining: 27.5s\n",
      "147:\tlearn: -0.0879354\ttotal: 1m 16s\tremaining: 27s\n",
      "148:\tlearn: -0.0875615\ttotal: 1m 17s\tremaining: 26.4s\n",
      "149:\tlearn: -0.0872647\ttotal: 1m 17s\tremaining: 25.9s\n",
      "150:\tlearn: -0.0869138\ttotal: 1m 18s\tremaining: 25.4s\n",
      "151:\tlearn: -0.0866571\ttotal: 1m 18s\tremaining: 24.9s\n",
      "152:\tlearn: -0.0863732\ttotal: 1m 19s\tremaining: 24.4s\n",
      "153:\tlearn: -0.0860766\ttotal: 1m 19s\tremaining: 23.8s\n",
      "154:\tlearn: -0.0858444\ttotal: 1m 20s\tremaining: 23.3s\n",
      "155:\tlearn: -0.0855718\ttotal: 1m 20s\tremaining: 22.8s\n",
      "156:\tlearn: -0.0853216\ttotal: 1m 21s\tremaining: 22.3s\n",
      "157:\tlearn: -0.0850789\ttotal: 1m 21s\tremaining: 21.8s\n",
      "158:\tlearn: -0.0848133\ttotal: 1m 22s\tremaining: 21.2s\n",
      "159:\tlearn: -0.0845460\ttotal: 1m 22s\tremaining: 20.7s\n",
      "160:\tlearn: -0.0842776\ttotal: 1m 23s\tremaining: 20.2s\n",
      "161:\tlearn: -0.0840369\ttotal: 1m 23s\tremaining: 19.7s\n",
      "162:\tlearn: -0.0838611\ttotal: 1m 24s\tremaining: 19.2s\n",
      "163:\tlearn: -0.0836403\ttotal: 1m 24s\tremaining: 18.6s\n",
      "164:\tlearn: -0.0833343\ttotal: 1m 25s\tremaining: 18.1s\n",
      "165:\tlearn: -0.0830521\ttotal: 1m 25s\tremaining: 17.6s\n",
      "166:\tlearn: -0.0828231\ttotal: 1m 26s\tremaining: 17.1s\n",
      "167:\tlearn: -0.0825840\ttotal: 1m 26s\tremaining: 16.6s\n",
      "168:\tlearn: -0.0823140\ttotal: 1m 27s\tremaining: 16s\n",
      "169:\tlearn: -0.0820460\ttotal: 1m 28s\tremaining: 15.5s\n",
      "170:\tlearn: -0.0817870\ttotal: 1m 28s\tremaining: 15s\n",
      "171:\tlearn: -0.0815829\ttotal: 1m 29s\tremaining: 14.5s\n",
      "172:\tlearn: -0.0814356\ttotal: 1m 29s\tremaining: 14s\n",
      "173:\tlearn: -0.0811668\ttotal: 1m 30s\tremaining: 13.5s\n",
      "174:\tlearn: -0.0809529\ttotal: 1m 30s\tremaining: 12.9s\n",
      "175:\tlearn: -0.0807861\ttotal: 1m 31s\tremaining: 12.4s\n",
      "176:\tlearn: -0.0804953\ttotal: 1m 31s\tremaining: 11.9s\n",
      "177:\tlearn: -0.0802779\ttotal: 1m 32s\tremaining: 11.4s\n",
      "178:\tlearn: -0.0800188\ttotal: 1m 32s\tremaining: 10.9s\n",
      "179:\tlearn: -0.0798147\ttotal: 1m 33s\tremaining: 10.3s\n",
      "180:\tlearn: -0.0796400\ttotal: 1m 33s\tremaining: 9.83s\n",
      "181:\tlearn: -0.0794467\ttotal: 1m 34s\tremaining: 9.31s\n",
      "182:\tlearn: -0.0792744\ttotal: 1m 34s\tremaining: 8.79s\n",
      "183:\tlearn: -0.0790802\ttotal: 1m 35s\tremaining: 8.27s\n",
      "184:\tlearn: -0.0788512\ttotal: 1m 35s\tremaining: 7.76s\n",
      "185:\tlearn: -0.0786850\ttotal: 1m 36s\tremaining: 7.24s\n",
      "186:\tlearn: -0.0784561\ttotal: 1m 36s\tremaining: 6.72s\n",
      "187:\tlearn: -0.0782359\ttotal: 1m 37s\tremaining: 6.2s\n",
      "188:\tlearn: -0.0780652\ttotal: 1m 37s\tremaining: 5.68s\n",
      "189:\tlearn: -0.0779341\ttotal: 1m 38s\tremaining: 5.17s\n",
      "190:\tlearn: -0.0777155\ttotal: 1m 38s\tremaining: 4.65s\n",
      "191:\tlearn: -0.0774527\ttotal: 1m 39s\tremaining: 4.13s\n",
      "192:\tlearn: -0.0772085\ttotal: 1m 39s\tremaining: 3.62s\n",
      "193:\tlearn: -0.0769684\ttotal: 1m 40s\tremaining: 3.1s\n",
      "194:\tlearn: -0.0767620\ttotal: 1m 40s\tremaining: 2.58s\n",
      "195:\tlearn: -0.0765708\ttotal: 1m 41s\tremaining: 2.07s\n",
      "196:\tlearn: -0.0763915\ttotal: 1m 41s\tremaining: 1.55s\n",
      "197:\tlearn: -0.0762222\ttotal: 1m 42s\tremaining: 1.03s\n",
      "198:\tlearn: -0.0760924\ttotal: 1m 42s\tremaining: 517ms\n",
      "199:\tlearn: -0.0759903\ttotal: 1m 43s\tremaining: 0us\n"
     ]
    },
    {
     "data": {
      "text/plain": [
       "<catboost.core.CatBoostClassifier at 0x1c2781a0b8>"
      ]
     },
     "execution_count": 10,
     "metadata": {},
     "output_type": "execute_result"
    }
   ],
   "source": [
    "catmodel=CatBoostClassifier(iterations=200,loss_function='MultiClass')\n",
    "#catmodel =RandomForestClassifier()\n",
    "catmodel.fit(dataL,ttlabel)"
   ]
  },
  {
   "cell_type": "code",
   "execution_count": 11,
   "metadata": {},
   "outputs": [
    {
     "data": {
      "text/plain": [
       "['/Users/wanggang/Desktop/2015/model/chengshu.m']"
      ]
     },
     "execution_count": 11,
     "metadata": {},
     "output_type": "execute_result"
    }
   ],
   "source": [
    "joblib.dump(catmodel,\"/Users/wanggang/Desktop/2015/model/chengshu.m\")\n",
    "## chengshu.m"
   ]
  },
  {
   "cell_type": "markdown",
   "metadata": {},
   "source": [
    "### 预测"
   ]
  },
  {
   "cell_type": "code",
   "execution_count": 12,
   "metadata": {},
   "outputs": [],
   "source": [
    "import matplotlib.pyplot as plt"
   ]
  },
  {
   "cell_type": "code",
   "execution_count": 13,
   "metadata": {},
   "outputs": [],
   "source": [
    "cloudNet = joblib.load(\"/Users/wanggang/Desktop/2015/model/chengshu.m\")"
   ]
  },
  {
   "cell_type": "code",
   "execution_count": 14,
   "metadata": {},
   "outputs": [],
   "source": [
    "def predict(net,tifData):\n",
    "    pred = net.predict(tifData.reshape((-1,7))).reshape((tifData.shape[0],tifData.shape[1]))\n",
    "    return pred"
   ]
  },
  {
   "cell_type": "code",
   "execution_count": 15,
   "metadata": {},
   "outputs": [],
   "source": [
    "tifData = tifffile.imread(\"/Users/wanggang/desktop/jianfengbiaozhu/LC81210402015156LGN00_merge.tif\")"
   ]
  },
  {
   "cell_type": "code",
   "execution_count": 16,
   "metadata": {},
   "outputs": [],
   "source": [
    "res = predict(cloudNet,tifData)"
   ]
  },
  {
   "cell_type": "code",
   "execution_count": 17,
   "metadata": {},
   "outputs": [
    {
     "data": {
      "text/plain": [
       "<matplotlib.image.AxesImage at 0x1c2b3d2f98>"
      ]
     },
     "execution_count": 17,
     "metadata": {},
     "output_type": "execute_result"
    },
    {
     "data": {
      "image/png": "[encoded data removed]",
      "text/plain": [
       "<Figure size 432x288 with 1 Axes>"
      ]
     },
     "metadata": {
      "needs_background": "light"
     },
     "output_type": "display_data"
    }
   ],
   "source": [
    "plt.imshow(res)"
   ]
  },
  {
   "cell_type": "code",
   "execution_count": 18,
   "metadata": {},
   "outputs": [
    {
     "data": {
      "text/plain": [
       "True"
      ]
     },
     "execution_count": 18,
     "metadata": {},
     "output_type": "execute_result"
    }
   ],
   "source": [
    "cv2.imwrite(\"/Users/wanggang/Desktop/2015/png_res/cloud_chengshu.png\",res)"
   ]
  },
  {
   "cell_type": "code",
   "execution_count": 29,
   "metadata": {},
   "outputs": [],
   "source": [
    "tt = np.zeros((res.shape[0],res.shape[1]))"
   ]
  },
  {
   "cell_type": "code",
   "execution_count": 30,
   "metadata": {},
   "outputs": [],
   "source": [
    "ff = tifffile.imread(\"/Users/wanggang/Desktop/0412/0412.tif\")"
   ]
  },
  {
   "cell_type": "code",
   "execution_count": 31,
   "metadata": {},
   "outputs": [],
   "source": [
    "ppp = np.zeros((res.shape[0],res.shape[1]))"
   ]
  },
  {
   "cell_type": "code",
   "execution_count": 32,
   "metadata": {},
   "outputs": [
    {
     "ename": "IndexError",
     "evalue": "boolean index did not match indexed array along dimension 0; dimension is 7831 but corresponding boolean dimension is 7811",
     "output_type": "error",
     "traceback": [
      "\u001b[0;31m---------------------------------------------------------------------------\u001b[0m",
      "\u001b[0;31mIndexError\u001b[0m                                Traceback (most recent call last)",
      "\u001b[0;32m<ipython-input-32-d17286f8a1ec>\u001b[0m in \u001b[0;36m<module>\u001b[0;34m\u001b[0m\n\u001b[0;32m----> 1\u001b[0;31m \u001b[0mppp\u001b[0m\u001b[0;34m[\u001b[0m\u001b[0mff\u001b[0m\u001b[0;34m==\u001b[0m\u001b[0;36m5\u001b[0m\u001b[0;34m]\u001b[0m\u001b[0;34m=\u001b[0m\u001b[0;36m1\u001b[0m\u001b[0;34m\u001b[0m\u001b[0m\n\u001b[0m\u001b[1;32m      2\u001b[0m \u001b[0mppp\u001b[0m\u001b[0;34m[\u001b[0m\u001b[0mff\u001b[0m\u001b[0;34m==\u001b[0m\u001b[0;36m6\u001b[0m\u001b[0;34m]\u001b[0m\u001b[0;34m=\u001b[0m\u001b[0;36m1\u001b[0m\u001b[0;34m\u001b[0m\u001b[0m\n",
      "\u001b[0;31mIndexError\u001b[0m: boolean index did not match indexed array along dimension 0; dimension is 7831 but corresponding boolean dimension is 7811"
     ]
    }
   ],
   "source": [
    "ppp[ff==5]=1\n",
    "ppp[ff==6]=1"
   ]
  },
  {
   "cell_type": "code",
   "execution_count": 20,
   "metadata": {},
   "outputs": [
    {
     "ename": "NameError",
     "evalue": "name 'tt' is not defined",
     "output_type": "error",
     "traceback": [
      "\u001b[0;31m---------------------------------------------------------------------------\u001b[0m",
      "\u001b[0;31mNameError\u001b[0m                                 Traceback (most recent call last)",
      "\u001b[0;32m<ipython-input-20-815f801a4369>\u001b[0m in \u001b[0;36m<module>\u001b[0;34m\u001b[0m\n\u001b[0;32m----> 1\u001b[0;31m \u001b[0mtt\u001b[0m\u001b[0;34m[\u001b[0m\u001b[0mff\u001b[0m\u001b[0;34m==\u001b[0m\u001b[0;36m5\u001b[0m\u001b[0;34m]\u001b[0m\u001b[0;34m=\u001b[0m\u001b[0;36m1\u001b[0m\u001b[0;34m\u001b[0m\u001b[0m\n\u001b[0m\u001b[1;32m      2\u001b[0m \u001b[0mtt\u001b[0m\u001b[0;34m[\u001b[0m\u001b[0mff\u001b[0m\u001b[0;34m==\u001b[0m\u001b[0;36m6\u001b[0m\u001b[0;34m]\u001b[0m\u001b[0;34m=\u001b[0m\u001b[0;36m1\u001b[0m\u001b[0;34m\u001b[0m\u001b[0m\n\u001b[1;32m      3\u001b[0m \u001b[0mtt\u001b[0m\u001b[0;34m[\u001b[0m\u001b[0mff\u001b[0m\u001b[0;34m==\u001b[0m\u001b[0;36m2\u001b[0m\u001b[0;34m]\u001b[0m\u001b[0;34m=\u001b[0m\u001b[0;36m1\u001b[0m\u001b[0;34m\u001b[0m\u001b[0m\n",
      "\u001b[0;31mNameError\u001b[0m: name 'tt' is not defined"
     ]
    }
   ],
   "source": [
    "tt[ff==5]=1\n",
    "tt[ff==6]=1\n",
    "tt[ff==2]=1"
   ]
  },
  {
   "cell_type": "code",
   "execution_count": 34,
   "metadata": {},
   "outputs": [
    {
     "data": {
      "text/plain": [
       "True"
      ]
     },
     "execution_count": 34,
     "metadata": {},
     "output_type": "execute_result"
    }
   ],
   "source": [
    "cv2.imwrite(\"/Users/wanggang/Desktop/3c.png\",ppp)"
   ]
  },
  {
   "cell_type": "code",
   "execution_count": 35,
   "metadata": {},
   "outputs": [],
   "source": [
    "rrs = np.zeros((res.shape[0],res.shape[1]))"
   ]
  },
  {
   "cell_type": "code",
   "execution_count": 36,
   "metadata": {},
   "outputs": [],
   "source": [
    "pp = res - tt"
   ]
  },
  {
   "cell_type": "code",
   "execution_count": 37,
   "metadata": {},
   "outputs": [],
   "source": [
    "rrs[pp==1]=1"
   ]
  },
  {
   "cell_type": "code",
   "execution_count": 38,
   "metadata": {},
   "outputs": [
    {
     "data": {
      "text/plain": [
       "True"
      ]
     },
     "execution_count": 38,
     "metadata": {},
     "output_type": "execute_result"
    }
   ],
   "source": [
    "cv2.imwrite(\"/Users/wanggang/Desktop/frt.png\",rrs)"
   ]
  },
  {
   "cell_type": "code",
   "execution_count": null,
   "metadata": {},
   "outputs": [],
   "source": []
  },
  {
   "cell_type": "code",
   "execution_count": null,
   "metadata": {},
   "outputs": [],
   "source": []
  }
 ],
 "metadata": {
  "kernelspec": {
   "display_name": "Python 3",
   "language": "python",
   "name": "python3"
  },
  "language_info": {
   "codemirror_mode": {
    "name": "ipython",
    "version": 3
   },
   "file_extension": ".py",
   "mimetype": "text/x-python",
   "name": "python",
   "nbconvert_exporter": "python",
   "pygments_lexer": "ipython3",
   "version": "3.7.0"
  }
 },
 "nbformat": 4,
 "nbformat_minor": 2
}
