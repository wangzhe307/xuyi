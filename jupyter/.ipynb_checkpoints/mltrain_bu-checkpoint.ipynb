{
 "cells": [
  {
   "cell_type": "code",
   "execution_count": 2,
   "metadata": {},
   "outputs": [],
   "source": [
    "from catboost import CatBoostClassifier\n",
    "import numpy as np\n",
    "import cv2\n",
    "from sklearn.externals import joblib\n",
    "from skimage.external import tifffile"
   ]
  },
  {
   "cell_type": "code",
   "execution_count": 2,
   "metadata": {},
   "outputs": [],
   "source": [
    "imgf=cv2.imread(\"/Users/wanggang/Desktop/20180801/shp2png/corn_positive.png\",0)\n",
    "imgz=cv2.imread(\"/Users/wanggang/Desktop/20180801/shp2png/dadou_positive.png\",0)\n",
    "\n",
    "tmpf = np.zeros((imgf.shape[0],imgf.shape[1]))\n",
    "tmpf[imgf==1]=2\n",
    "\n",
    "label = np.zeros((imgf.shape[0],imgf.shape[1]))\n",
    "label=label+imgz\n",
    "label=label+tmpf\n",
    "#label[label==3]=1"
   ]
  },
  {
   "cell_type": "code",
   "execution_count": 3,
   "metadata": {},
   "outputs": [],
   "source": [
    "extra_img = cv2.imread(\"/Users/wanggang/Desktop/hyun/17_add_zhi.png\",0)\n",
    "extra_tif = tifffile.imread(\"/Users/wanggang/Desktop/20180801/LC08_L1TP_023032_20180801_20180801_01_RT_merge.tif\")"
   ]
  },
  {
   "cell_type": "code",
   "execution_count": 4,
   "metadata": {},
   "outputs": [
    {
     "data": {
      "text/plain": [
       "(array([0., 1., 2.]), array([64247377,   182210,    63774]))"
      ]
     },
     "execution_count": 4,
     "metadata": {},
     "output_type": "execute_result"
    }
   ],
   "source": [
    "np.unique(label,return_counts=True)"
   ]
  },
  {
   "cell_type": "code",
   "execution_count": 5,
   "metadata": {},
   "outputs": [],
   "source": [
    "input_image = tifffile.imread(\"/Users/wanggang/Desktop/20180801/LC08_L1TP_023032_20180801_20180801_01_RT_merge.tif\")\n",
    "output_image = label"
   ]
  },
  {
   "cell_type": "code",
   "execution_count": 6,
   "metadata": {},
   "outputs": [],
   "source": [
    "def get_train_data(input_image,output_image):\n",
    "    need_label = np.zeros([output_image.shape[0],output_image.shape[1]])\n",
    "    for i in range(output_image.shape[0]):\n",
    "        for j in range(output_image.shape[1]):\n",
    "            if output_image[i][j] != 0:\n",
    "            #if output_image[i][j] in [1,2,3,4,5,6,7,8,9]:\n",
    "                need_label[i][j] = output_image[i][j]\n",
    "    new_datawithlabel_list = []\n",
    "    for i in range(output_image.shape[0]):\n",
    "        for j in range(output_image.shape[1]):\n",
    "            if need_label[i][j] != 0:\n",
    "                c2l = list(input_image[i][j])\n",
    "                c2l.append(need_label[i][j])\n",
    "                new_datawithlabel_list.append(c2l)\n",
    "    new_datawithlabel_array = np.array(new_datawithlabel_list)\n",
    "    dataL = new_datawithlabel_array[:,:-1]\n",
    "    labelL = new_datawithlabel_array[:,-1]\n",
    "    return dataL,labelL"
   ]
  },
  {
   "cell_type": "code",
   "execution_count": 7,
   "metadata": {},
   "outputs": [],
   "source": [
    "orig_dataL,orig_labelL = get_train_data(input_image,output_image)"
   ]
  },
  {
   "cell_type": "code",
   "execution_count": 8,
   "metadata": {},
   "outputs": [],
   "source": [
    "extra_dataL,orig_label = get_train_data(extra_tif,extra_img)"
   ]
  },
  {
   "cell_type": "code",
   "execution_count": 9,
   "metadata": {},
   "outputs": [],
   "source": [
    "extra_label = np.zeros((orig_label.shape[0],))\n",
    "extra_label[orig_label==1]=2  #添加正样本时"
   ]
  },
  {
   "cell_type": "code",
   "execution_count": 10,
   "metadata": {},
   "outputs": [],
   "source": [
    "merge_dataL = np.zeros((orig_dataL.shape[0]+extra_dataL.shape[0],7))"
   ]
  },
  {
   "cell_type": "code",
   "execution_count": 11,
   "metadata": {},
   "outputs": [],
   "source": [
    "merge_dataL[:orig_dataL.shape[0],:]=orig_dataL\n",
    "merge_dataL[orig_dataL.shape[0]:,:]=extra_dataL"
   ]
  },
  {
   "cell_type": "code",
   "execution_count": 12,
   "metadata": {},
   "outputs": [],
   "source": [
    "merge_labelL=np.zeros((orig_labelL.shape[0]+extra_label.shape[0],))"
   ]
  },
  {
   "cell_type": "code",
   "execution_count": 13,
   "metadata": {},
   "outputs": [],
   "source": [
    "merge_labelL[:orig_labelL.shape[0]]=orig_labelL\n",
    "merge_labelL[orig_labelL.shape[0]:]=extra_label"
   ]
  },
  {
   "cell_type": "code",
   "execution_count": 14,
   "metadata": {},
   "outputs": [],
   "source": [
    "ttlabel = np.zeros((orig_labelL.shape[0]+extra_label.shape[0],))"
   ]
  },
  {
   "cell_type": "code",
   "execution_count": 15,
   "metadata": {},
   "outputs": [],
   "source": [
    "ttlabel[merge_labelL==1]=0\n",
    "ttlabel[merge_labelL==2]=1"
   ]
  },
  {
   "cell_type": "code",
   "execution_count": 16,
   "metadata": {},
   "outputs": [
    {
     "data": {
      "text/plain": [
       "(array([0., 1.]), array([182210,  69709]))"
      ]
     },
     "execution_count": 16,
     "metadata": {},
     "output_type": "execute_result"
    }
   ],
   "source": [
    "np.unique(ttlabel,return_counts=True)"
   ]
  },
  {
   "cell_type": "code",
   "execution_count": 17,
   "metadata": {},
   "outputs": [
    {
     "name": "stdout",
     "output_type": "stream",
     "text": [
      "0:\tlearn: -0.6659091\ttotal: 171ms\tremaining: 34.1s\n",
      "1:\tlearn: -0.6401900\ttotal: 280ms\tremaining: 27.7s\n",
      "2:\tlearn: -0.6158364\ttotal: 426ms\tremaining: 28s\n",
      "3:\tlearn: -0.5927630\ttotal: 556ms\tremaining: 27.3s\n",
      "4:\tlearn: -0.5710403\ttotal: 671ms\tremaining: 26.2s\n",
      "5:\tlearn: -0.5503481\ttotal: 777ms\tremaining: 25.1s\n",
      "6:\tlearn: -0.5309352\ttotal: 885ms\tremaining: 24.4s\n",
      "7:\tlearn: -0.5123832\ttotal: 994ms\tremaining: 23.8s\n",
      "8:\tlearn: -0.4945394\ttotal: 1.11s\tremaining: 23.6s\n",
      "9:\tlearn: -0.4777392\ttotal: 1.24s\tremaining: 23.5s\n",
      "10:\tlearn: -0.4616655\ttotal: 1.37s\tremaining: 23.6s\n",
      "11:\tlearn: -0.4462938\ttotal: 1.48s\tremaining: 23.2s\n",
      "12:\tlearn: -0.4316425\ttotal: 1.59s\tremaining: 22.8s\n",
      "13:\tlearn: -0.4176475\ttotal: 1.7s\tremaining: 22.5s\n",
      "14:\tlearn: -0.4042156\ttotal: 1.81s\tremaining: 22.4s\n",
      "15:\tlearn: -0.3914638\ttotal: 1.93s\tremaining: 22.2s\n",
      "16:\tlearn: -0.3793173\ttotal: 2.07s\tremaining: 22.3s\n",
      "17:\tlearn: -0.3677704\ttotal: 2.18s\tremaining: 22.1s\n",
      "18:\tlearn: -0.3565572\ttotal: 2.29s\tremaining: 21.8s\n",
      "19:\tlearn: -0.3456328\ttotal: 2.39s\tremaining: 21.5s\n",
      "20:\tlearn: -0.3353185\ttotal: 2.5s\tremaining: 21.3s\n",
      "21:\tlearn: -0.3253974\ttotal: 2.61s\tremaining: 21.1s\n",
      "22:\tlearn: -0.3159540\ttotal: 2.72s\tremaining: 20.9s\n",
      "23:\tlearn: -0.3067539\ttotal: 2.83s\tremaining: 20.8s\n",
      "24:\tlearn: -0.2978529\ttotal: 2.97s\tremaining: 20.8s\n",
      "25:\tlearn: -0.2892887\ttotal: 3.07s\tremaining: 20.6s\n",
      "26:\tlearn: -0.2811057\ttotal: 3.18s\tremaining: 20.4s\n",
      "27:\tlearn: -0.2733011\ttotal: 3.29s\tremaining: 20.2s\n",
      "28:\tlearn: -0.2657512\ttotal: 3.4s\tremaining: 20s\n",
      "29:\tlearn: -0.2583879\ttotal: 3.52s\tremaining: 19.9s\n",
      "30:\tlearn: -0.2513548\ttotal: 3.65s\tremaining: 19.9s\n",
      "31:\tlearn: -0.2444969\ttotal: 3.76s\tremaining: 19.8s\n",
      "32:\tlearn: -0.2380490\ttotal: 3.87s\tremaining: 19.6s\n",
      "33:\tlearn: -0.2317061\ttotal: 3.98s\tremaining: 19.4s\n",
      "34:\tlearn: -0.2256211\ttotal: 4.09s\tremaining: 19.3s\n",
      "35:\tlearn: -0.2197888\ttotal: 4.22s\tremaining: 19.2s\n",
      "36:\tlearn: -0.2140998\ttotal: 4.33s\tremaining: 19.1s\n",
      "37:\tlearn: -0.2086206\ttotal: 4.44s\tremaining: 18.9s\n",
      "38:\tlearn: -0.2034490\ttotal: 4.55s\tremaining: 18.8s\n",
      "39:\tlearn: -0.1984474\ttotal: 4.65s\tremaining: 18.6s\n",
      "40:\tlearn: -0.1934670\ttotal: 4.76s\tremaining: 18.5s\n",
      "41:\tlearn: -0.1887294\ttotal: 4.87s\tremaining: 18.3s\n",
      "42:\tlearn: -0.1840776\ttotal: 5s\tremaining: 18.3s\n",
      "43:\tlearn: -0.1796769\ttotal: 5.14s\tremaining: 18.2s\n",
      "44:\tlearn: -0.1755511\ttotal: 5.27s\tremaining: 18.1s\n",
      "45:\tlearn: -0.1714014\ttotal: 5.39s\tremaining: 18.1s\n",
      "46:\tlearn: -0.1673411\ttotal: 5.51s\tremaining: 17.9s\n",
      "47:\tlearn: -0.1635101\ttotal: 5.61s\tremaining: 17.8s\n",
      "48:\tlearn: -0.1597235\ttotal: 5.72s\tremaining: 17.6s\n",
      "49:\tlearn: -0.1560245\ttotal: 5.83s\tremaining: 17.5s\n",
      "50:\tlearn: -0.1525485\ttotal: 5.93s\tremaining: 17.3s\n",
      "51:\tlearn: -0.1491605\ttotal: 6.04s\tremaining: 17.2s\n",
      "52:\tlearn: -0.1459481\ttotal: 6.14s\tremaining: 17s\n",
      "53:\tlearn: -0.1428523\ttotal: 6.25s\tremaining: 16.9s\n",
      "54:\tlearn: -0.1398114\ttotal: 6.36s\tremaining: 16.8s\n",
      "55:\tlearn: -0.1368098\ttotal: 6.47s\tremaining: 16.6s\n",
      "56:\tlearn: -0.1340739\ttotal: 6.57s\tremaining: 16.5s\n",
      "57:\tlearn: -0.1313159\ttotal: 6.68s\tremaining: 16.4s\n",
      "58:\tlearn: -0.1285863\ttotal: 6.79s\tremaining: 16.2s\n",
      "59:\tlearn: -0.1259735\ttotal: 6.89s\tremaining: 16.1s\n",
      "60:\tlearn: -0.1234729\ttotal: 7.01s\tremaining: 16s\n",
      "61:\tlearn: -0.1210062\ttotal: 7.14s\tremaining: 15.9s\n",
      "62:\tlearn: -0.1186816\ttotal: 7.27s\tremaining: 15.8s\n",
      "63:\tlearn: -0.1164206\ttotal: 7.37s\tremaining: 15.7s\n",
      "64:\tlearn: -0.1140885\ttotal: 7.48s\tremaining: 15.5s\n",
      "65:\tlearn: -0.1119827\ttotal: 7.61s\tremaining: 15.5s\n",
      "66:\tlearn: -0.1099544\ttotal: 7.74s\tremaining: 15.4s\n",
      "67:\tlearn: -0.1080145\ttotal: 7.86s\tremaining: 15.3s\n",
      "68:\tlearn: -0.1060243\ttotal: 7.97s\tremaining: 15.1s\n",
      "69:\tlearn: -0.1041109\ttotal: 8.09s\tremaining: 15s\n",
      "70:\tlearn: -0.1022848\ttotal: 8.2s\tremaining: 14.9s\n",
      "71:\tlearn: -0.1003913\ttotal: 8.31s\tremaining: 14.8s\n",
      "72:\tlearn: -0.0985255\ttotal: 8.41s\tremaining: 14.6s\n",
      "73:\tlearn: -0.0969881\ttotal: 8.53s\tremaining: 14.5s\n",
      "74:\tlearn: -0.0955632\ttotal: 8.64s\tremaining: 14.4s\n",
      "75:\tlearn: -0.0940630\ttotal: 8.75s\tremaining: 14.3s\n",
      "76:\tlearn: -0.0926236\ttotal: 8.86s\tremaining: 14.2s\n",
      "77:\tlearn: -0.0910642\ttotal: 8.96s\tremaining: 14s\n",
      "78:\tlearn: -0.0895899\ttotal: 9.08s\tremaining: 13.9s\n",
      "79:\tlearn: -0.0881097\ttotal: 9.21s\tremaining: 13.8s\n",
      "80:\tlearn: -0.0867183\ttotal: 9.34s\tremaining: 13.7s\n",
      "81:\tlearn: -0.0853015\ttotal: 9.44s\tremaining: 13.6s\n",
      "82:\tlearn: -0.0839751\ttotal: 9.55s\tremaining: 13.5s\n",
      "83:\tlearn: -0.0827791\ttotal: 9.66s\tremaining: 13.3s\n",
      "84:\tlearn: -0.0817997\ttotal: 9.77s\tremaining: 13.2s\n",
      "85:\tlearn: -0.0805503\ttotal: 9.88s\tremaining: 13.1s\n",
      "86:\tlearn: -0.0793594\ttotal: 9.98s\tremaining: 13s\n",
      "87:\tlearn: -0.0781765\ttotal: 10.1s\tremaining: 12.8s\n",
      "88:\tlearn: -0.0770606\ttotal: 10.2s\tremaining: 12.7s\n",
      "89:\tlearn: -0.0760256\ttotal: 10.3s\tremaining: 12.6s\n",
      "90:\tlearn: -0.0749395\ttotal: 10.4s\tremaining: 12.5s\n",
      "91:\tlearn: -0.0739188\ttotal: 10.5s\tremaining: 12.3s\n",
      "92:\tlearn: -0.0729419\ttotal: 10.6s\tremaining: 12.2s\n",
      "93:\tlearn: -0.0719763\ttotal: 10.7s\tremaining: 12.1s\n",
      "94:\tlearn: -0.0712367\ttotal: 10.9s\tremaining: 12s\n",
      "95:\tlearn: -0.0702825\ttotal: 11s\tremaining: 11.9s\n",
      "96:\tlearn: -0.0693541\ttotal: 11.1s\tremaining: 11.8s\n",
      "97:\tlearn: -0.0684808\ttotal: 11.2s\tremaining: 11.7s\n",
      "98:\tlearn: -0.0678162\ttotal: 11.3s\tremaining: 11.6s\n",
      "99:\tlearn: -0.0670497\ttotal: 11.4s\tremaining: 11.4s\n",
      "100:\tlearn: -0.0662085\ttotal: 11.5s\tremaining: 11.3s\n",
      "101:\tlearn: -0.0654178\ttotal: 11.7s\tremaining: 11.2s\n",
      "102:\tlearn: -0.0646190\ttotal: 11.8s\tremaining: 11.1s\n",
      "103:\tlearn: -0.0638980\ttotal: 11.9s\tremaining: 11s\n",
      "104:\tlearn: -0.0631625\ttotal: 12s\tremaining: 10.8s\n",
      "105:\tlearn: -0.0624288\ttotal: 12.1s\tremaining: 10.7s\n",
      "106:\tlearn: -0.0617001\ttotal: 12.2s\tremaining: 10.6s\n",
      "107:\tlearn: -0.0610433\ttotal: 12.3s\tremaining: 10.5s\n",
      "108:\tlearn: -0.0605584\ttotal: 12.4s\tremaining: 10.4s\n",
      "109:\tlearn: -0.0599143\ttotal: 12.5s\tremaining: 10.3s\n",
      "110:\tlearn: -0.0592979\ttotal: 12.7s\tremaining: 10.1s\n",
      "111:\tlearn: -0.0586559\ttotal: 12.8s\tremaining: 10s\n",
      "112:\tlearn: -0.0582162\ttotal: 12.9s\tremaining: 9.91s\n",
      "113:\tlearn: -0.0576093\ttotal: 13s\tremaining: 9.79s\n",
      "114:\tlearn: -0.0570211\ttotal: 13.1s\tremaining: 9.68s\n",
      "115:\tlearn: -0.0564629\ttotal: 13.2s\tremaining: 9.56s\n",
      "116:\tlearn: -0.0560587\ttotal: 13.3s\tremaining: 9.44s\n",
      "117:\tlearn: -0.0555290\ttotal: 13.4s\tremaining: 9.32s\n",
      "118:\tlearn: -0.0551089\ttotal: 13.5s\tremaining: 9.2s\n",
      "119:\tlearn: -0.0546360\ttotal: 13.6s\tremaining: 9.09s\n",
      "120:\tlearn: -0.0541410\ttotal: 13.7s\tremaining: 8.97s\n",
      "121:\tlearn: -0.0536414\ttotal: 13.8s\tremaining: 8.85s\n",
      "122:\tlearn: -0.0531852\ttotal: 14s\tremaining: 8.73s\n",
      "123:\tlearn: -0.0527257\ttotal: 14.1s\tremaining: 8.62s\n",
      "124:\tlearn: -0.0522382\ttotal: 14.2s\tremaining: 8.5s\n",
      "125:\tlearn: -0.0517893\ttotal: 14.3s\tremaining: 8.38s\n",
      "126:\tlearn: -0.0514809\ttotal: 14.4s\tremaining: 8.27s\n",
      "127:\tlearn: -0.0510747\ttotal: 14.5s\tremaining: 8.15s\n",
      "128:\tlearn: -0.0507866\ttotal: 14.6s\tremaining: 8.03s\n",
      "129:\tlearn: -0.0503827\ttotal: 14.7s\tremaining: 7.92s\n",
      "130:\tlearn: -0.0499960\ttotal: 14.8s\tremaining: 7.8s\n",
      "131:\tlearn: -0.0495796\ttotal: 14.9s\tremaining: 7.68s\n",
      "132:\tlearn: -0.0492560\ttotal: 15s\tremaining: 7.57s\n",
      "133:\tlearn: -0.0488645\ttotal: 15.1s\tremaining: 7.45s\n",
      "134:\tlearn: -0.0485133\ttotal: 15.2s\tremaining: 7.34s\n",
      "135:\tlearn: -0.0481456\ttotal: 15.3s\tremaining: 7.22s\n",
      "136:\tlearn: -0.0478181\ttotal: 15.5s\tremaining: 7.11s\n",
      "137:\tlearn: -0.0475880\ttotal: 15.6s\tremaining: 6.99s\n",
      "138:\tlearn: -0.0472722\ttotal: 15.7s\tremaining: 6.88s\n",
      "139:\tlearn: -0.0469547\ttotal: 15.8s\tremaining: 6.76s\n",
      "140:\tlearn: -0.0466336\ttotal: 15.9s\tremaining: 6.65s\n",
      "141:\tlearn: -0.0462969\ttotal: 16s\tremaining: 6.53s\n",
      "142:\tlearn: -0.0459997\ttotal: 16.1s\tremaining: 6.42s\n",
      "143:\tlearn: -0.0456980\ttotal: 16.2s\tremaining: 6.3s\n",
      "144:\tlearn: -0.0453776\ttotal: 16.3s\tremaining: 6.19s\n",
      "145:\tlearn: -0.0451141\ttotal: 16.4s\tremaining: 6.07s\n",
      "146:\tlearn: -0.0448586\ttotal: 16.5s\tremaining: 5.96s\n",
      "147:\tlearn: -0.0446675\ttotal: 16.6s\tremaining: 5.84s\n",
      "148:\tlearn: -0.0444302\ttotal: 16.7s\tremaining: 5.73s\n",
      "149:\tlearn: -0.0441655\ttotal: 16.9s\tremaining: 5.62s\n",
      "150:\tlearn: -0.0439292\ttotal: 17s\tremaining: 5.5s\n",
      "151:\tlearn: -0.0437065\ttotal: 17.1s\tremaining: 5.39s\n",
      "152:\tlearn: -0.0434962\ttotal: 17.2s\tremaining: 5.28s\n",
      "153:\tlearn: -0.0432138\ttotal: 17.3s\tremaining: 5.16s\n",
      "154:\tlearn: -0.0429592\ttotal: 17.4s\tremaining: 5.05s\n",
      "155:\tlearn: -0.0428001\ttotal: 17.5s\tremaining: 4.93s\n",
      "156:\tlearn: -0.0425658\ttotal: 17.6s\tremaining: 4.82s\n",
      "157:\tlearn: -0.0423484\ttotal: 17.7s\tremaining: 4.71s\n",
      "158:\tlearn: -0.0421617\ttotal: 17.8s\tremaining: 4.59s\n",
      "159:\tlearn: -0.0420120\ttotal: 17.9s\tremaining: 4.48s\n",
      "160:\tlearn: -0.0417886\ttotal: 18s\tremaining: 4.37s\n",
      "161:\tlearn: -0.0415454\ttotal: 18.1s\tremaining: 4.25s\n",
      "162:\tlearn: -0.0413556\ttotal: 18.3s\tremaining: 4.14s\n",
      "163:\tlearn: -0.0411656\ttotal: 18.4s\tremaining: 4.03s\n",
      "164:\tlearn: -0.0409973\ttotal: 18.5s\tremaining: 3.92s\n",
      "165:\tlearn: -0.0408119\ttotal: 18.6s\tremaining: 3.8s\n",
      "166:\tlearn: -0.0406670\ttotal: 18.7s\tremaining: 3.69s\n",
      "167:\tlearn: -0.0404960\ttotal: 18.8s\tremaining: 3.58s\n",
      "168:\tlearn: -0.0403532\ttotal: 18.9s\tremaining: 3.46s\n",
      "169:\tlearn: -0.0402282\ttotal: 19s\tremaining: 3.35s\n",
      "170:\tlearn: -0.0400773\ttotal: 19.1s\tremaining: 3.24s\n",
      "171:\tlearn: -0.0398824\ttotal: 19.2s\tremaining: 3.13s\n",
      "172:\tlearn: -0.0396922\ttotal: 19.3s\tremaining: 3.01s\n",
      "173:\tlearn: -0.0395493\ttotal: 19.4s\tremaining: 2.9s\n",
      "174:\tlearn: -0.0393716\ttotal: 19.5s\tremaining: 2.79s\n",
      "175:\tlearn: -0.0392978\ttotal: 19.6s\tremaining: 2.68s\n",
      "176:\tlearn: -0.0391892\ttotal: 19.7s\tremaining: 2.57s\n",
      "177:\tlearn: -0.0391194\ttotal: 19.9s\tremaining: 2.46s\n",
      "178:\tlearn: -0.0389995\ttotal: 20s\tremaining: 2.34s\n",
      "179:\tlearn: -0.0388447\ttotal: 20.1s\tremaining: 2.23s\n",
      "180:\tlearn: -0.0386739\ttotal: 20.2s\tremaining: 2.12s\n",
      "181:\tlearn: -0.0385192\ttotal: 20.3s\tremaining: 2.01s\n",
      "182:\tlearn: -0.0384255\ttotal: 20.4s\tremaining: 1.9s\n",
      "183:\tlearn: -0.0382902\ttotal: 20.5s\tremaining: 1.78s\n",
      "184:\tlearn: -0.0381271\ttotal: 20.6s\tremaining: 1.67s\n",
      "185:\tlearn: -0.0379693\ttotal: 20.7s\tremaining: 1.56s\n",
      "186:\tlearn: -0.0378225\ttotal: 20.8s\tremaining: 1.45s\n",
      "187:\tlearn: -0.0376844\ttotal: 20.9s\tremaining: 1.34s\n",
      "188:\tlearn: -0.0375697\ttotal: 21.1s\tremaining: 1.23s\n",
      "189:\tlearn: -0.0374441\ttotal: 21.2s\tremaining: 1.11s\n",
      "190:\tlearn: -0.0373197\ttotal: 21.3s\tremaining: 1s\n",
      "191:\tlearn: -0.0371993\ttotal: 21.4s\tremaining: 891ms\n",
      "192:\tlearn: -0.0370690\ttotal: 21.5s\tremaining: 779ms\n",
      "193:\tlearn: -0.0369277\ttotal: 21.6s\tremaining: 668ms\n",
      "194:\tlearn: -0.0367535\ttotal: 21.7s\tremaining: 556ms\n",
      "195:\tlearn: -0.0366448\ttotal: 21.8s\tremaining: 445ms\n",
      "196:\tlearn: -0.0365082\ttotal: 21.9s\tremaining: 334ms\n",
      "197:\tlearn: -0.0364073\ttotal: 22s\tremaining: 222ms\n",
      "198:\tlearn: -0.0362616\ttotal: 22.1s\tremaining: 111ms\n",
      "199:\tlearn: -0.0361664\ttotal: 22.2s\tremaining: 0us\n"
     ]
    },
    {
     "data": {
      "text/plain": [
       "<catboost.core.CatBoostClassifier at 0x1c2354fb70>"
      ]
     },
     "execution_count": 17,
     "metadata": {},
     "output_type": "execute_result"
    }
   ],
   "source": [
    "catmodel=CatBoostClassifier(iterations=200,loss_function='MultiClass')\n",
    "catmodel.fit(merge_dataL,ttlabel)"
   ]
  },
  {
   "cell_type": "code",
   "execution_count": 18,
   "metadata": {},
   "outputs": [],
   "source": [
    "joblib.dump(catmodel,\"118027_plant_17.m\")\n",
    "cloudNet = joblib.load(\"118027_plant_17.m\")"
   ]
  },
  {
   "cell_type": "markdown",
   "metadata": {},
   "source": [
    "##  预测"
   ]
  },
  {
   "cell_type": "code",
   "execution_count": 19,
   "metadata": {},
   "outputs": [],
   "source": [
    "cloudNet = joblib.load(\"121035_cloud.m\")"
   ]
  },
  {
   "cell_type": "code",
   "execution_count": 19,
   "metadata": {},
   "outputs": [],
   "source": [
    "def predict(net,tifData):\n",
    "    pred = net.predict(tifData.reshape((-1,7))).reshape((tifData.shape[0],tifData.shape[1]))\n",
    "    return pred"
   ]
  },
  {
   "cell_type": "code",
   "execution_count": 20,
   "metadata": {},
   "outputs": [],
   "source": [
    "tifData = tifffile.imread(\"/Users/wanggang/Desktop/20180801/LC08_L1TP_023032_20180801_20180801_01_RT_merge.tif\")"
   ]
  },
  {
   "cell_type": "code",
   "execution_count": 21,
   "metadata": {},
   "outputs": [],
   "source": [
    "res = predict(cloudNet,tifData)"
   ]
  },
  {
   "cell_type": "code",
   "execution_count": 23,
   "metadata": {},
   "outputs": [
    {
     "data": {
      "text/plain": [
       "True"
      ]
     },
     "execution_count": 23,
     "metadata": {},
     "output_type": "execute_result"
    }
   ],
   "source": [
    "cv2.imwrite(\"/Users/wanggang/Desktop/20180801/shp2png/corn.png\",res)"
   ]
  },
  {
   "cell_type": "code",
   "execution_count": 24,
   "metadata": {},
   "outputs": [],
   "source": [
    "cv2.imwrite(\"/Users/wanggang/Desktop/20180801/shp2png/\",res)"
   ]
  },
  {
   "cell_type": "code",
   "execution_count": 29,
   "metadata": {},
   "outputs": [
    {
     "data": {
      "text/plain": [
       "<matplotlib.image.AxesImage at 0x1c262bc898>"
      ]
     },
     "execution_count": 29,
     "metadata": {},
     "output_type": "execute_result"
    },
    {
     "data": {
      "image/png": "[encoded data removed]",
      "text/plain": [
       "<Figure size 432x288 with 1 Axes>"
      ]
     },
     "metadata": {
      "needs_background": "light"
     },
     "output_type": "display_data"
    }
   ],
   "source": [
    "plt.imshow(res)"
   ]
  },
  {
   "cell_type": "code",
   "execution_count": null,
   "metadata": {},
   "outputs": [],
   "source": [
    "for i in range(10):\n",
    "    print(\"this number is 10+i\")"
   ]
  },
  {
   "cell_type": "code",
   "execution_count": 55,
   "metadata": {},
   "outputs": [
    {
     "data": {
      "text/plain": [
       "'/Users/wanggang/Desktop/machine/LHDFile'"
      ]
     },
     "execution_count": 55,
     "metadata": {},
     "output_type": "execute_result"
    }
   ],
   "source": [
    "pwd"
   ]
  },
  {
   "cell_type": "code",
   "execution_count": null,
   "metadata": {},
   "outputs": [],
   "source": [
    "import glob\n",
    "tifname = glob.glob(\"/Users/wanggang/Desktop/124036/*.tif\")\n",
    "for i in range(len(tifname)):\n",
    "    tifData = tifffile.imread(tifname[i])\n",
    "    res = predict(cloudNet,tifData)\n",
    "    cv2.imwrite(\"/Users/wanggang/Desktop/lhdnorthpng/henan_\"+17plate.png\",res)"
   ]
  }
 ],
 "metadata": {
  "kernelspec": {
   "display_name": "Python 3",
   "language": "python",
   "name": "python3"
  },
  "language_info": {
   "codemirror_mode": {
    "name": "ipython",
    "version": 3
   },
   "file_extension": ".py",
   "mimetype": "text/x-python",
   "name": "python",
   "nbconvert_exporter": "python",
   "pygments_lexer": "ipython3",
   "version": "3.7.3"
  }
 },
 "nbformat": 4,
 "nbformat_minor": 2
}
