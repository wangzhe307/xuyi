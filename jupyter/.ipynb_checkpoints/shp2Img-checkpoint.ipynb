{
 "cells": [
  {
   "cell_type": "code",
   "execution_count": 1,
   "metadata": {
    "scrolled": true
   },
   "outputs": [
    {
     "name": "stdout",
     "output_type": "stream",
     "text": [
      "(7, 7791, 7661)\n",
      "(array([0., 1.]), array([178556472,    504081]))\n"
     ]
    }
   ],
   "source": [
    "import gdal\n",
    "#import osgeo as osr\n",
    "from gdal import osr\n",
    "import geopandas as pd\n",
    "import numpy as np\n",
    "import cv2\n",
    "def geo2imagexy(dataset, x, y):\n",
    "    \n",
    "    trans = dataset.GetGeoTransform()\n",
    "    a = np.array([[trans[1], trans[2]], [trans[4], trans[5]]])\n",
    "    b = np.array([x - trans[0], y - trans[3]])\n",
    "    return np.linalg.solve(a, b)\n",
    "\n",
    "def getSRSPair(dataset):\n",
    "    prosrs = osr.SpatialReference()\n",
    "    prosrs.ImportFromWkt(dataset.GetProjection())\n",
    "    geosrs = prosrs.CloneGeogCS()\n",
    "    return prosrs, geosrs\n",
    "def lonlat2geo(dataset, lon, lat):\n",
    "   \n",
    "    prosrs, geosrs = getSRSPair(dataset)\n",
    "    \n",
    "    ct = osr.CoordinateTransformation(geosrs, prosrs)\n",
    "    coords = ct.TransformPoint(lon, lat)\n",
    "    return coords[:2]\n",
    "shape_data = pd.GeoDataFrame.from_file(\"/Users/xuyameng/Desktop/ah_0528_ym/grow_fu.shp\")\n",
    "tif_data = gdal.Open(\"/Users/xuyameng/Desktop/ah_0528_ym/LC08_L1TP_121038_20170728_20170728_01_RT_merge_align.tif\")\n",
    "tif_datashape = tif_data.ReadAsArray()\n",
    "print(tif_datashape.shape)\n",
    "level_xiao=[]\n",
    "level_da=[]\n",
    "kkt = []\n",
    "for i,b in enumerate(shape_data['geometry']):\n",
    "    if b.geom_type == \"MultiPolygon\":\n",
    "        for pg in b:\n",
    "            for k,j in enumerate(pg.exterior.coords[:]):\n",
    "                print(\"#\"*20)\n",
    "                (x,y)=j\n",
    "                (xt,yt)=lonlat2geo(tif_data,x,y)\n",
    "                (xt,yt)=geo2imagexy(tif_data,xt,yt)\n",
    "                print(xt,yt)\n",
    "                level_xiao.append((xt,yt))\n",
    "            level_da.append(level_xiao)\n",
    "            level_xiao=[]\n",
    "    else:\n",
    "        for ki,ji in enumerate(b.exterior.coords[:]):\n",
    "            (x,y)=ji\n",
    "            (xt,yt)=lonlat2geo(tif_data,x,y)\n",
    "            (xt,yt)=geo2imagexy(tif_data,xt,yt)\n",
    "            level_xiao.append((xt,yt))\n",
    "        level_da.append(level_xiao)\n",
    "        level_xiao=[]\n",
    "images = np.zeros((tif_datashape.shape[1],tif_datashape.shape[2],3))\n",
    "for m,n in enumerate(level_da):\n",
    "    nparr=np.array(n)\n",
    "    cv2.fillPoly(images,np.array([nparr],np.int32),(1,1,1))\n",
    "cv2.imwrite(\"/Users/xuyameng/Desktop/ah_0528_ym/grow_negative.png\",images)\n",
    "print(np.unique(images,return_counts=True))"
   ]
  },
  {
   "cell_type": "code",
   "execution_count": null,
   "metadata": {},
   "outputs": [],
   "source": []
  },
  {
   "cell_type": "code",
   "execution_count": null,
   "metadata": {},
   "outputs": [],
   "source": []
  }
 ],
 "metadata": {
  "kernelspec": {
   "display_name": "Python 3",
   "language": "python",
   "name": "python3"
  },
  "language_info": {
   "codemirror_mode": {
    "name": "ipython",
    "version": 3
   },
   "file_extension": ".py",
   "mimetype": "text/x-python",
   "name": "python",
   "nbconvert_exporter": "python",
   "pygments_lexer": "ipython3",
   "version": "3.7.3"
  }
 },
 "nbformat": 4,
 "nbformat_minor": 2
}
