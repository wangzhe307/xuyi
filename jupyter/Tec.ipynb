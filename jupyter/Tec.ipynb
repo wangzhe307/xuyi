{
 "cells": [
  {
   "cell_type": "code",
   "execution_count": 28,
   "metadata": {},
   "outputs": [],
   "source": [
    "from keras.layers import Conv2D,Input,MaxPooling2D,Conv2DTranspose,Dropout,BatchNormalization,Dense\n",
    "from keras.models import Model\n",
    "from keras.callbacks import ModelCheckpoint\n",
    "import random"
   ]
  },
  {
   "cell_type": "code",
   "execution_count": 18,
   "metadata": {},
   "outputs": [],
   "source": [
    "img_cols=64\n",
    "img_rows=64\n",
    "num_channels=7\n",
    "num_mask_channels=2"
   ]
  },
  {
   "cell_type": "code",
   "execution_count": 2,
   "metadata": {},
   "outputs": [
    {
     "name": "stdout",
     "output_type": "stream",
     "text": [
      "Object `MaxPooling2D` not found.\n"
     ]
    }
   ],
   "source": [
    "MaxPooling2D??"
   ]
  },
  {
   "cell_type": "code",
   "execution_count": 19,
   "metadata": {},
   "outputs": [],
   "source": [
    "def define_model(input_shape,num):\n",
    "    ipt = Input(shape=input_shape)\n",
    "    print(ipt.shape)\n",
    "    x = Conv2D(64,kernel_size=3,padding='same',strides=1,activation='relu')(ipt)\n",
    "    x = MaxPooling2D(64,kernel_size=3,padding='same',strides=1,activation='relu')(x)\n",
    "    x = Conv2DTranspose(64,kernel_size=3,padding='same',strides=2,activation='relu')(x)\n",
    "    x = Conv2D(num,kernel_size=3,padding='same',strides=1,activation='softmax')(x)\n",
    "    print(x.shape)\n",
    "    rg = Model(ipt,x)\n",
    "    rg.compile(loss='categorical_crossentropy',optimizer='sgd',metrics=['accuracy'])\n",
    "    return rg"
   ]
  },
  {
   "cell_type": "code",
   "execution_count": 4,
   "metadata": {},
   "outputs": [],
   "source": [
    "def form_batch(X, y, batch_size):\n",
    "    X_batch = np.zeros((batch_size, img_rows, img_cols,num_channels))\n",
    "    y_batch = np.zeros((batch_size, img_rows, img_cols,num_mask_channels))\n",
    "    X_height = X.shape[1]\n",
    "    X_width = X.shape[2]\n",
    "    for i in range(batch_size):\n",
    "        random_width = random.randint(0, X_width - img_cols - 1)\n",
    "        random_height = random.randint(0, X_height - img_rows - 1)\n",
    "\n",
    "        random_image = random.randint(0, X.shape[0] - 1)\n",
    "\n",
    "        y_batch[i] = y[random_image, random_height: random_height + img_rows, random_width: random_width + img_cols,:]\n",
    "        X_batch[i] = np.array(X[random_image,random_height: random_height + img_rows, random_width: random_width + img_cols,:])\n",
    "    return X_batch, y_batch"
   ]
  },
  {
   "cell_type": "code",
   "execution_count": 5,
   "metadata": {},
   "outputs": [],
   "source": [
    "def batch_generator(X, y, batch_size, horizontal_flip=False, vertical_flip=False, swap_axis=False):\n",
    "    while True:\n",
    "        X_batch, y_batch = form_batch(X, y, batch_size)\n",
    "        for i in range(X_batch.shape[0]):\n",
    "            xb = X_batch[i]\n",
    "            yb = y_batch[i]\n",
    "\n",
    "            if horizontal_flip:\n",
    "                if np.random.random() < 0.5:\n",
    "                    xb = flip_axis(xb, 1)\n",
    "                    yb = flip_axis(yb, 1)\n",
    "\n",
    "            if vertical_flip:\n",
    "                if np.random.random() < 0.5:\n",
    "                    xb = flip_axis(xb, 2)\n",
    "                    yb = flip_axis(yb, 2)\n",
    "\n",
    "            if swap_axis:\n",
    "                if np.random.random() < 0.5:\n",
    "                    xb = xb.swapaxes(1, 2)\n",
    "                    yb = yb.swapaxes(1, 2)\n",
    "\n",
    "            X_batch[i] = xb\n",
    "            y_batch[i] = yb\n",
    "        yield X_batch, y_batch#[:, :, 16:16 + img_rows - 32, 16:16 + img_cols - 32]"
   ]
  },
  {
   "cell_type": "code",
   "execution_count": 6,
   "metadata": {},
   "outputs": [],
   "source": [
    "from keras.utils import np_utils\n",
    "import numpy as np"
   ]
  },
  {
   "cell_type": "code",
   "execution_count": 7,
   "metadata": {},
   "outputs": [],
   "source": [
    "import cv2\n",
    "from skimage.external import tifffile\n",
    "imgpath=[\"/Users/xuyameng/Desktop/ah_0528_ym/grow.png\"]\n",
    "tifpath=[\"/Users/xuyameng/Desktop/ah_0528_ym/LC08_L1TP_121038_20170728_20170728_01_RT_merge_align.tif\"]\n",
    "imgSize = cv2.imread(imgpath[0],0)\n",
    "from keras.utils import np_utils\n",
    "def getData(maskpath,tifpath):\n",
    "    tmpData = np.zeros((1,imgSize.shape[0],imgSize.shape[1],7))\n",
    "    tmpMask = np.zeros((1,imgSize.shape[0],imgSize.shape[1],2))\n",
    "    for i in range(1):\n",
    "        tmpData[i,:,:,:]=tifffile.imread(tifpath[i])\n",
    "        tmpMask[i,:,:,:] = np_utils.to_categorical(cv2.imread(maskpath[i],0),2)\n",
    "    return tmpData/255,tmpMask"
   ]
  },
  {
   "cell_type": "code",
   "execution_count": 8,
   "metadata": {},
   "outputs": [],
   "source": [
    "X_train,y_train = getData(imgpath,tifpath)"
   ]
  },
  {
   "cell_type": "code",
   "execution_count": 20,
   "metadata": {},
   "outputs": [
    {
     "name": "stdout",
     "output_type": "stream",
     "text": [
      "(?, 64, 64, 7)\n",
      "(?, ?, ?, 2)\n"
     ]
    }
   ],
   "source": [
    "model = define_model(input_shape=(64,64,7),num=2)"
   ]
  },
  {
   "cell_type": "code",
   "execution_count": 21,
   "metadata": {},
   "outputs": [
    {
     "name": "stdout",
     "output_type": "stream",
     "text": [
      "WARNING:tensorflow:From /anaconda3/lib/python3.7/site-packages/tensorflow/python/ops/math_ops.py:3066: to_int32 (from tensorflow.python.ops.math_ops) is deprecated and will be removed in a future version.\n",
      "Instructions for updating:\n",
      "Use tf.cast instead.\n",
      "WARNING:tensorflow:From /anaconda3/lib/python3.7/site-packages/tensorflow/python/ops/math_grad.py:102: div (from tensorflow.python.ops.math_ops) is deprecated and will be removed in a future version.\n",
      "Instructions for updating:\n",
      "Deprecated in favor of operator or tf.math.divide.\n",
      "Epoch 1/20\n",
      "40/40 [==============================] - 1s 25ms/step - loss: 0.6152 - acc: 0.5920 - val_loss: 0.3856 - val_acc: 0.9618\n",
      "Epoch 2/20\n",
      "40/40 [==============================] - 1s 18ms/step - loss: 0.4527 - acc: 0.6884 - val_loss: 0.6640 - val_acc: 1.0000\n",
      "Epoch 3/20\n",
      "40/40 [==============================] - 1s 19ms/step - loss: 0.3548 - acc: 0.9506 - val_loss: 0.3344 - val_acc: 0.9971\n",
      "Epoch 4/20\n",
      "40/40 [==============================] - 1s 19ms/step - loss: 0.2492 - acc: 0.9565 - val_loss: 0.3602 - val_acc: 0.9785\n",
      "Epoch 5/20\n",
      "40/40 [==============================] - 1s 21ms/step - loss: 0.2968 - acc: 0.9630 - val_loss: 0.4838 - val_acc: 1.0000\n",
      "Epoch 6/20\n",
      "40/40 [==============================] - 1s 19ms/step - loss: 0.2503 - acc: 0.9612 - val_loss: 0.0461 - val_acc: 0.9965\n",
      "Epoch 7/20\n",
      "40/40 [==============================] - 1s 19ms/step - loss: 0.2527 - acc: 0.9394 - val_loss: 0.2051 - val_acc: 0.9943\n",
      "Epoch 8/20\n",
      "40/40 [==============================] - 1s 19ms/step - loss: 0.2282 - acc: 0.9486 - val_loss: 0.2581 - val_acc: 0.8707\n",
      "Epoch 9/20\n",
      "40/40 [==============================] - 1s 21ms/step - loss: 0.1696 - acc: 0.9717 - val_loss: 0.1889 - val_acc: 0.9745\n",
      "Epoch 10/20\n",
      "40/40 [==============================] - 1s 20ms/step - loss: 0.1560 - acc: 0.9708 - val_loss: 0.1107 - val_acc: 0.9995\n",
      "Epoch 11/20\n",
      "40/40 [==============================] - 1s 24ms/step - loss: 0.1311 - acc: 0.9723 - val_loss: 0.1135 - val_acc: 0.9830\n",
      "Epoch 12/20\n",
      "40/40 [==============================] - 1s 21ms/step - loss: 0.1296 - acc: 0.9712 - val_loss: 0.1001 - val_acc: 0.9948\n",
      "Epoch 13/20\n",
      "40/40 [==============================] - 1s 20ms/step - loss: 0.1361 - acc: 0.9647 - val_loss: 0.1185 - val_acc: 0.9843\n",
      "Epoch 14/20\n",
      "40/40 [==============================] - 1s 20ms/step - loss: 0.1062 - acc: 0.9759 - val_loss: 0.0954 - val_acc: 1.0000\n",
      "Epoch 15/20\n",
      "40/40 [==============================] - 1s 20ms/step - loss: 0.0929 - acc: 0.9843 - val_loss: 0.1656 - val_acc: 0.9498\n",
      "Epoch 16/20\n",
      "40/40 [==============================] - 1s 18ms/step - loss: 0.1007 - acc: 0.9755 - val_loss: 0.0939 - val_acc: 0.9803\n",
      "Epoch 17/20\n",
      "40/40 [==============================] - 1s 19ms/step - loss: 0.0965 - acc: 0.9736 - val_loss: 0.1563 - val_acc: 0.9421\n",
      "Epoch 18/20\n",
      "40/40 [==============================] - 1s 19ms/step - loss: 0.0826 - acc: 0.9798 - val_loss: 0.1168 - val_acc: 0.9630\n",
      "Epoch 19/20\n",
      "40/40 [==============================] - 1s 18ms/step - loss: 0.0686 - acc: 0.9835 - val_loss: 0.1139 - val_acc: 0.9813\n",
      "Epoch 20/20\n",
      "40/40 [==============================] - 1s 19ms/step - loss: 0.0901 - acc: 0.9734 - val_loss: 0.0518 - val_acc: 0.9896\n"
     ]
    }
   ],
   "source": [
    "checkpoint = ModelCheckpoint(\"wt.h5\",\n",
    "                             save_best_only=True,\n",
    "                             save_weights_only=True)\n",
    "history  = model.fit_generator(batch_generator(X_train,y_train,1),steps_per_epoch=40,\n",
    "                               validation_data = batch_generator(X_train,y_train,1),validation_steps=2,\n",
    "                               callbacks=[checkpoint],epochs=20,verbose=1)"
   ]
  },
  {
   "cell_type": "code",
   "execution_count": 22,
   "metadata": {},
   "outputs": [],
   "source": [
    "def predict_little_size(model,img_small):\n",
    "    netout = model.predict(img_small[:,2100:2164,2100:2164,:])\n",
    "    return np.squeeze(netout).argmax(2)"
   ]
  },
  {
   "cell_type": "code",
   "execution_count": 23,
   "metadata": {},
   "outputs": [],
   "source": [
    "pred = predict_little_size(model,X_train)"
   ]
  },
  {
   "cell_type": "code",
   "execution_count": 24,
   "metadata": {},
   "outputs": [],
   "source": [
    "import matplotlib.pyplot as plt"
   ]
  },
  {
   "cell_type": "code",
   "execution_count": 25,
   "metadata": {},
   "outputs": [
    {
     "data": {
      "text/plain": [
       "<matplotlib.image.AxesImage at 0x1c31b39320>"
      ]
     },
     "execution_count": 25,
     "metadata": {},
     "output_type": "execute_result"
    },
    {
     "data": {
      "image/png": "[encoded data removed]",
      "text/plain": [
       "<Figure size 432x288 with 1 Axes>"
      ]
     },
     "metadata": {
      "needs_background": "light"
     },
     "output_type": "display_data"
    }
   ],
   "source": [
    "plt.imshow(pred)"
   ]
  },
  {
   "cell_type": "code",
   "execution_count": 26,
   "metadata": {},
   "outputs": [],
   "source": [
    "real_data = tifffile.imread(\"/Users/xuyameng/Desktop/ah_0528_ym/LC08_L1TP_121038_20170728_20170728_01_RT_merge_align.tif\")[:,:,[3,4,6]]"
   ]
  },
  {
   "cell_type": "code",
   "execution_count": 27,
   "metadata": {},
   "outputs": [
    {
     "name": "stderr",
     "output_type": "stream",
     "text": [
      "Clipping input data to the valid range for imshow with RGB data ([0..1] for floats or [0..255] for integers).\n"
     ]
    },
    {
     "data": {
      "text/plain": [
       "<matplotlib.image.AxesImage at 0x1c30f04668>"
      ]
     },
     "execution_count": 27,
     "metadata": {},
     "output_type": "execute_result"
    },
    {
     "data": {
      "image/png": "[encoded data removed]",
      "text/plain": [
       "<Figure size 432x288 with 1 Axes>"
      ]
     },
     "metadata": {
      "needs_background": "light"
     },
     "output_type": "display_data"
    }
   ],
   "source": [
    "plt.imshow(real_data[2100:2164,2100:2164,:])"
   ]
  },
  {
   "cell_type": "code",
   "execution_count": 10,
   "metadata": {},
   "outputs": [],
   "source": [
    "model.load_weights('wt.h5')"
   ]
  },
  {
   "cell_type": "code",
   "execution_count": null,
   "metadata": {},
   "outputs": [],
   "source": []
  }
 ],
 "metadata": {
  "kernelspec": {
   "display_name": "Python 3",
   "language": "python",
   "name": "python3"
  },
  "language_info": {
   "codemirror_mode": {
    "name": "ipython",
    "version": 3
   },
   "file_extension": ".py",
   "mimetype": "text/x-python",
   "name": "python",
   "nbconvert_exporter": "python",
   "pygments_lexer": "ipython3",
   "version": "3.7.3"
  }
 },
 "nbformat": 4,
 "nbformat_minor": 2
}
