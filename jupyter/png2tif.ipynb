{
 "cells": [
  {
   "cell_type": "code",
   "execution_count": 2,
   "metadata": {},
   "outputs": [
    {
     "name": "stdout",
     "output_type": "stream",
     "text": [
      "(7761, 7601, 3)\n"
     ]
    }
   ],
   "source": [
    "import gdal\n",
    "import cv2\n",
    "from osgeo import *\n",
    "from gdal import *\n",
    "\n",
    "image_data = gdal.Open(\"/Users/xuyameng/desktop/sc_0726_jf/LC08_L1TP_128038_20140806_20170420_01_T1_merge_align.tif\")\n",
    "final_img = cv2.imread(\"/Users/xuyameng/Desktop/sc_0722_jf/he.png\")\n",
    "print(final_img.shape)\n",
    "# final_img = image_data.ReadAsArray()\n",
    "driver = image_data.GetDriver()\n",
    "out_dataset=driver.Create(\"/Users/xuyameng/Desktop/sc_0726_jf/cpc.tif\",final_img.shape[1], final_img.shape[0],1, GDT_Int32)\n",
    "for i in range(1):\n",
    "    outBand = out_dataset.GetRasterBand(i + 1)\n",
    "    outBand.WriteArray(final_img[:,:,i])\n",
    "out_dataset.SetGeoTransform(image_data.GetGeoTransform())\n",
    "out_dataset.SetProjection(image_data.GetProjection())\n",
    "del out_dataset"
   ]
  },
  {
   "cell_type": "code",
   "execution_count": 3,
   "metadata": {},
   "outputs": [
    {
     "ename": "AttributeError",
     "evalue": "'NoneType' object has no attribute 'RasterYSize'",
     "output_type": "error",
     "traceback": [
      "\u001b[0;31m---------------------------------------------------------------------------\u001b[0m",
      "\u001b[0;31mAttributeError\u001b[0m                            Traceback (most recent call last)",
      "\u001b[0;32m<ipython-input-3-1ef25cc7a62b>\u001b[0m in \u001b[0;36m<module>\u001b[0;34m\u001b[0m\n\u001b[1;32m     98\u001b[0m     \u001b[0mout_path\u001b[0m \u001b[0;34m=\u001b[0m \u001b[0;34m\"/Users/wanggang/Desktop/2015/get.tif\"\u001b[0m\u001b[0;34m\u001b[0m\u001b[0;34m\u001b[0m\u001b[0m\n\u001b[1;32m     99\u001b[0m     \u001b[0mrgb_values\u001b[0m \u001b[0;34m=\u001b[0m \u001b[0;36m2\u001b[0m\u001b[0;34m\u001b[0m\u001b[0;34m\u001b[0m\u001b[0m\n\u001b[0;32m--> 100\u001b[0;31m     \u001b[0mall_array\u001b[0m\u001b[0;34m,\u001b[0m\u001b[0mdataset\u001b[0m \u001b[0;34m=\u001b[0m \u001b[0mshp2tif\u001b[0m\u001b[0;34m(\u001b[0m\u001b[0mpath_shp\u001b[0m\u001b[0;34m,\u001b[0m\u001b[0mpath_tif\u001b[0m\u001b[0;34m,\u001b[0m\u001b[0mrgb_values\u001b[0m\u001b[0;34m)\u001b[0m\u001b[0;34m\u001b[0m\u001b[0;34m\u001b[0m\u001b[0m\n\u001b[0m\u001b[1;32m    101\u001b[0m     \u001b[0msave_tif\u001b[0m\u001b[0;34m(\u001b[0m\u001b[0mout_path\u001b[0m\u001b[0;34m,\u001b[0m\u001b[0mall_array\u001b[0m\u001b[0;34m,\u001b[0m\u001b[0mdataset\u001b[0m\u001b[0;34m)\u001b[0m\u001b[0;34m\u001b[0m\u001b[0;34m\u001b[0m\u001b[0m\n",
      "\u001b[0;32m<ipython-input-3-1ef25cc7a62b>\u001b[0m in \u001b[0;36mshp2tif\u001b[0;34m(shape_path, tif_path, pixel)\u001b[0m\n\u001b[1;32m     42\u001b[0m     \u001b[0mdataset\u001b[0m \u001b[0;34m=\u001b[0m \u001b[0mgdal\u001b[0m\u001b[0;34m.\u001b[0m\u001b[0mOpen\u001b[0m\u001b[0;34m(\u001b[0m\u001b[0mpath_tif\u001b[0m\u001b[0;34m)\u001b[0m\u001b[0;34m\u001b[0m\u001b[0;34m\u001b[0m\u001b[0m\n\u001b[1;32m     43\u001b[0m     \u001b[0;32mglobal\u001b[0m \u001b[0mrows\u001b[0m\u001b[0;34m,\u001b[0m\u001b[0mcols\u001b[0m\u001b[0;34m\u001b[0m\u001b[0;34m\u001b[0m\u001b[0m\n\u001b[0;32m---> 44\u001b[0;31m     \u001b[0mrows\u001b[0m \u001b[0;34m=\u001b[0m \u001b[0mdataset\u001b[0m\u001b[0;34m.\u001b[0m\u001b[0mRasterYSize\u001b[0m\u001b[0;34m\u001b[0m\u001b[0;34m\u001b[0m\u001b[0m\n\u001b[0m\u001b[1;32m     45\u001b[0m     \u001b[0mcols\u001b[0m \u001b[0;34m=\u001b[0m \u001b[0mdataset\u001b[0m\u001b[0;34m.\u001b[0m\u001b[0mRasterXSize\u001b[0m\u001b[0;34m\u001b[0m\u001b[0;34m\u001b[0m\u001b[0m\n\u001b[1;32m     46\u001b[0m     \u001b[0mgeo_data\u001b[0m\u001b[0;34m=\u001b[0m\u001b[0mgpd\u001b[0m\u001b[0;34m.\u001b[0m\u001b[0mread_file\u001b[0m\u001b[0;34m(\u001b[0m\u001b[0mpath_shp\u001b[0m\u001b[0;34m)\u001b[0m\u001b[0;34m\u001b[0m\u001b[0;34m\u001b[0m\u001b[0m\n",
      "\u001b[0;31mAttributeError\u001b[0m: 'NoneType' object has no attribute 'RasterYSize'"
     ]
    }
   ],
   "source": [
    "import geopandas as gpd\n",
    "import numpy as np\n",
    "import gdal\n",
    "import cv2\n",
    "from osgeo.gdalconst import *\n",
    "import osgeo\n",
    "from pathlib import Path\n",
    "def geo2imagexy(dataset: osgeo.gdal.Dataset, x: float, y: float) -> str:\n",
    "    \"\"\"\n",
    "    parameters:\n",
    "        dataset: osgeo.gdal.Dataset\n",
    "            GDAL geographic data\n",
    "        x: float\n",
    "            Projection or geographic coordinates x\n",
    "        y: float\n",
    "            Projection or geographic coordinates y\n",
    "            \n",
    "    return :float\n",
    "        A line or column number on an image corresponding(x,y) to a shadow or geographic coordinate(row, col) \n",
    "    \"\"\"\n",
    "    trans = dataset.GetGeoTransform()\n",
    "    a = np.array([[trans[1], trans[2]], [trans[4], trans[5]]])\n",
    "    b = np.array([x - trans[0], y - trans[3]])\n",
    "    return np.linalg.solve(a, b)  # 使用numpy的linalg.solve进行二元一次方程的求解\n",
    "    \n",
    "def shp2tif(shape_path: Path, tif_path: Path,  pixel: str) -> np.ndarray:\n",
    "    \"\"\"\n",
    "    parameters:\n",
    "        shape_path: Path\n",
    "            input path of shape file\n",
    "        tif_path: Path\n",
    "            input path of tif file\n",
    "        pixel:\n",
    "            the pixel value after shape2tif\n",
    "    return:\n",
    "        all_array: np.ndarray\n",
    "            array after shape2tif\n",
    "        dataset: osgeo.gdal.Dataset\n",
    "            GDAL geographic data\n",
    "    \"\"\"\n",
    "    global dataset\n",
    "    dataset = gdal.Open(path_tif)\n",
    "    global rows,cols\n",
    "    rows = dataset.RasterYSize\n",
    "    cols = dataset.RasterXSize\n",
    "    geo_data=gpd.read_file(path_shp)\n",
    "    all_array=np.zeros((rows,cols),dtype=np.uint8)\n",
    "    shp_lists = []\n",
    "    shape_list = []\n",
    "    for i in list(geo_data.geometry):\n",
    "        if i.type == 'Polygon':\n",
    "            temp_list=list(i.exterior.coords)  #获取polygon外环点坐标\n",
    "            temp_point_list = []\n",
    "            for point in temp_list:\n",
    "                [point_x,point_y] = geo2imagexy(dataset,point[0],point[1])  # 求解shape点坐标对应的tif坐标\n",
    "                temp_point_list.append([point_x,point_y])\n",
    "            shp_lists.append(temp_point_list)\n",
    "            \n",
    "            interiors_list = list(i.interiors)  # 找到polygon内环\n",
    "            for interiors in interiors_list:\n",
    "                interiors_temp_list = list(interiors.coords)  # 获取内环的点坐标 \n",
    "                interiors_point_list = []\n",
    "                for interiors_point in interiors_temp_list:\n",
    "                    [interiors_point_x,interiors_point_y] = geo2imagexy(dataset,interiors_point[0],interiors_point[1])\n",
    "                    interiors_point_list.append([interiors_point_x,interiors_point_y])\n",
    "                shape_list.append(interiors_point_list)\n",
    "        else:\n",
    "            print(i.type)\n",
    "    for i in shp_lists:\n",
    "        poly = np.array(i, np.int32)\n",
    "        cv2.fillPoly(all_array,[poly], pixel)  # 外环点用指定值填充\n",
    "    for k in shape_list:\n",
    "        shape_poly = np.array(k,np.int32) # 内环用0填充\n",
    "        cv2.fillPoly(all_array,[shape_poly],0) \n",
    "    print(\"shape2tif successful:\")\n",
    "    return all_array,dataset\n",
    "def save_tif(out_path: Path , all_array: np.ndarray, dataset: osgeo.gdal.Dataset):\n",
    "    \"\"\"\n",
    "    parameters:\n",
    "        out_path: Path \n",
    "            output path of tif file\n",
    "        all_array: np.ndarray\n",
    "            Prepare the array to store\n",
    "        dataset: osgeo.gdal.Dataset\n",
    "            GDAL geographic data\n",
    "    \"\"\"\n",
    "    driver = dataset.GetDriver()\n",
    "    out_dataset = driver.Create(out_path,all_array.shape[1], all_array.shape[0],1, GDT_UInt16)\n",
    "    outBand = out_dataset.GetRasterBand(1)\n",
    "    outBand.WriteArray(all_array[:,:])\n",
    "    out_dataset.SetGeoTransform(dataset.GetGeoTransform())\n",
    "    out_dataset.SetProjection(dataset.GetProjection())\n",
    "    print(\"save tif file successful\")\n",
    "    del out_dataset   \n",
    "if __name__ == '__main__':\n",
    "    path_tif = \"/Users/wanggang/Desktop/jianfengbiaozhu/LC81210402015156LGN00_merge.tif\"\n",
    "    path_shp = \"/Users/wanggang/Downloads/cloud_cheng/cloud_cheng.shp\"\n",
    "    out_path = \"/Users/wanggang/Desktop/2015/get.tif\"\n",
    "    rgb_values = 2\n",
    "    all_array,dataset = shp2tif(path_shp,path_tif,rgb_values)\n",
    "    save_tif(out_path,all_array,dataset)"
   ]
  },
  {
   "cell_type": "code",
   "execution_count": 8,
   "metadata": {},
   "outputs": [],
   "source": [
    "path_tif = \"/Users/wanggang/Desktop/jianfengbiaozhu/LC81210402015156LGN00_merge.tif\"\n",
    "path_shp = \"/Users/wanggang/Downloads/cloud_cheng/cloud_cheng.shp\""
   ]
  },
  {
   "cell_type": "code",
   "execution_count": 9,
   "metadata": {},
   "outputs": [],
   "source": [
    "shape_data = gpd.read_file(path_shp)"
   ]
  },
  {
   "cell_type": "code",
   "execution_count": null,
   "metadata": {},
   "outputs": [],
   "source": []
  },
  {
   "cell_type": "code",
   "execution_count": null,
   "metadata": {},
   "outputs": [],
   "source": []
  }
 ],
 "metadata": {
  "kernelspec": {
   "display_name": "Python 3",
   "language": "python",
   "name": "python3"
  },
  "language_info": {
   "codemirror_mode": {
    "name": "ipython",
    "version": 3
   },
   "file_extension": ".py",
   "mimetype": "text/x-python",
   "name": "python",
   "nbconvert_exporter": "python",
   "pygments_lexer": "ipython3",
   "version": "3.7.3"
  }
 },
 "nbformat": 4,
 "nbformat_minor": 2
}
