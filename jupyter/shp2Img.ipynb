{
 "cells": [
  {
   "cell_type": "code",
   "execution_count": 1,
   "metadata": {
    "scrolled": true
   },
   "outputs": [
    {
     "name": "stdout",
     "output_type": "stream",
     "text": [
      "(array([0., 1.]), array([2273070,  491730]))\n"
     ]
    }
   ],
   "source": [
    "import gdal\n",
    "#import osgeo as osr\n",
    "from gdal import osr\n",
    "import geopandas as pd\n",
    "import numpy as np\n",
    "import cv2\n",
    "def geo2imagexy(dataset, x, y):\n",
    "    \n",
    "    trans = dataset.GetGeoTransform()\n",
    "    a = np.array([[trans[1], trans[2]], [trans[4], trans[5]]])\n",
    "    b = np.array([x - trans[0], y - trans[3]])\n",
    "    return np.linalg.solve(a, b)\n",
    "\n",
    "def getSRSPair(dataset):\n",
    "    prosrs = osr.SpatialReference()\n",
    "    prosrs.ImportFromWkt(dataset.GetProjection())\n",
    "    geosrs = prosrs.CloneGeogCS()\n",
    "    return prosrs, geosrs\n",
    "def lonlat2geo(dataset, lon, lat):\n",
    "   \n",
    "    prosrs, geosrs = getSRSPair(dataset)\n",
    "    \n",
    "    ct = osr.CoordinateTransformation(geosrs, prosrs)\n",
    "    coords = ct.TransformPoint(lon, lat)\n",
    "    return coords[:2]\n",
    "shape_data = pd.GeoDataFrame.from_file(\"/Users/xuyameng/Desktop/8/8.shp\")\n",
    "tif_data = gdal.Open(\"/Users/xuyameng/Desktop/image_2018_trans_8.tif\")\n",
    "ss = tif_data.ReadAsArray()\n",
    "level_xiao=[]\n",
    "level_da=[]\n",
    "kkt = []\n",
    "for i,b in enumerate(shape_data['geometry']):\n",
    "    if b.geom_type == \"MultiPolygon\":\n",
    "        for pg in b:\n",
    "            for k,j in enumerate(pg.exterior.coords[:]):\n",
    "                print(\"#\"*20)\n",
    "                (x,y)=j\n",
    "                #(xt,yt)=lonlat2geo(tif_data,xt,yt)\n",
    "                (xt,yt)=geo2imagexy(tif_data,x,y)\n",
    "                print(xt,yt)\n",
    "                level_xiao.append((xt,yt))\n",
    "            level_da.append(level_xiao)\n",
    "            level_xiao=[]\n",
    "    else:\n",
    "        for ki,ji in enumerate(b.exterior.coords[:]):\n",
    "            (x,y)=ji\n",
    "            #(xt,yt)=lonlat2geo(tif_data,x,y)\n",
    "            (xt,yt)=geo2imagexy(tif_data,x,y)\n",
    "            level_xiao.append((xt,yt))\n",
    "        level_da.append(level_xiao)\n",
    "        level_xiao=[]\n",
    "images = np.zeros((ss.shape[1],ss.shape[2],3))\n",
    "for m,n in enumerate(level_da):\n",
    "    nparr=np.array(n)\n",
    "    cv2.fillPoly(images,np.array([nparr],np.int32),(1,1,1))\n",
    "cv2.imwrite(\"/Users/xuyameng/Desktop/8/8_0820.png\",images)\n",
    "print(np.unique(images,return_counts=True))"
   ]
  },
  {
   "cell_type": "code",
   "execution_count": 6,
   "metadata": {},
   "outputs": [
    {
     "ename": "ValueError",
     "evalue": "Received a NULL pointer.",
     "output_type": "error",
     "traceback": [
      "\u001b[0;31m---------------------------------------------------------------------------\u001b[0m",
      "\u001b[0;31mValueError\u001b[0m                                Traceback (most recent call last)",
      "\u001b[0;32m<ipython-input-6-510697324bab>\u001b[0m in \u001b[0;36m<module>\u001b[0;34m\u001b[0m\n\u001b[1;32m      3\u001b[0m \u001b[0mds\u001b[0m \u001b[0;34m=\u001b[0m \u001b[0mgdal\u001b[0m\u001b[0;34m.\u001b[0m\u001b[0mOpen\u001b[0m\u001b[0;34m(\u001b[0m\u001b[0mfile_path\u001b[0m\u001b[0;34m)\u001b[0m\u001b[0;34m\u001b[0m\u001b[0;34m\u001b[0m\u001b[0m\n\u001b[1;32m      4\u001b[0m \u001b[0mdriver\u001b[0m \u001b[0;34m=\u001b[0m \u001b[0mgdal\u001b[0m\u001b[0;34m.\u001b[0m\u001b[0mGetDriverByName\u001b[0m\u001b[0;34m(\u001b[0m\u001b[0;34m'PNG'\u001b[0m\u001b[0;34m)\u001b[0m\u001b[0;34m\u001b[0m\u001b[0;34m\u001b[0m\u001b[0m\n\u001b[0;32m----> 5\u001b[0;31m \u001b[0mdst_ds\u001b[0m \u001b[0;34m=\u001b[0m \u001b[0mdriver\u001b[0m\u001b[0;34m.\u001b[0m\u001b[0mCreateCopy\u001b[0m\u001b[0;34m(\u001b[0m\u001b[0;34m'/Users/xuyameng/Desktop/anhui_0614.png'\u001b[0m\u001b[0;34m,\u001b[0m \u001b[0mds\u001b[0m\u001b[0;34m)\u001b[0m\u001b[0;34m\u001b[0m\u001b[0;34m\u001b[0m\u001b[0m\n\u001b[0m",
      "\u001b[0;32m/anaconda3/lib/python3.7/site-packages/osgeo/gdal.py\u001b[0m in \u001b[0;36mCreateCopy\u001b[0;34m(self, *args, **kwargs)\u001b[0m\n\u001b[1;32m   1595\u001b[0m     \u001b[0;32mdef\u001b[0m \u001b[0mCreateCopy\u001b[0m\u001b[0;34m(\u001b[0m\u001b[0mself\u001b[0m\u001b[0;34m,\u001b[0m \u001b[0;34m*\u001b[0m\u001b[0margs\u001b[0m\u001b[0;34m,\u001b[0m \u001b[0;34m**\u001b[0m\u001b[0mkwargs\u001b[0m\u001b[0;34m)\u001b[0m\u001b[0;34m:\u001b[0m\u001b[0;34m\u001b[0m\u001b[0;34m\u001b[0m\u001b[0m\n\u001b[1;32m   1596\u001b[0m         \u001b[0;34m\"\"\"CreateCopy(Driver self, char const * utf8_path, Dataset src, int strict=1, char ** options=None, GDALProgressFunc callback=0, void * callback_data=None) -> Dataset\"\"\"\u001b[0m\u001b[0;34m\u001b[0m\u001b[0;34m\u001b[0m\u001b[0m\n\u001b[0;32m-> 1597\u001b[0;31m         \u001b[0;32mreturn\u001b[0m \u001b[0m_gdal\u001b[0m\u001b[0;34m.\u001b[0m\u001b[0mDriver_CreateCopy\u001b[0m\u001b[0;34m(\u001b[0m\u001b[0mself\u001b[0m\u001b[0;34m,\u001b[0m \u001b[0;34m*\u001b[0m\u001b[0margs\u001b[0m\u001b[0;34m,\u001b[0m \u001b[0;34m**\u001b[0m\u001b[0mkwargs\u001b[0m\u001b[0;34m)\u001b[0m\u001b[0;34m\u001b[0m\u001b[0;34m\u001b[0m\u001b[0m\n\u001b[0m\u001b[1;32m   1598\u001b[0m \u001b[0;34m\u001b[0m\u001b[0m\n\u001b[1;32m   1599\u001b[0m \u001b[0;34m\u001b[0m\u001b[0m\n",
      "\u001b[0;31mValueError\u001b[0m: Received a NULL pointer."
     ]
    }
   ],
   "source": [
    "from osgeo import gdal\n",
    "file_path = \"/Users/xuyameng/Desktop/anhui_6014.tif\"\n",
    "ds = gdal.Open(file_path)\n",
    "driver = gdal.GetDriverByName('PNG')\n",
    "dst_ds = driver.CreateCopy('/Users/xuyameng/Desktop/anhui_0614.png', ds)"
   ]
  },
  {
   "cell_type": "code",
   "execution_count": 4,
   "metadata": {},
   "outputs": [],
   "source": [
    "import cv2"
   ]
  },
  {
   "cell_type": "code",
   "execution_count": 12,
   "metadata": {},
   "outputs": [],
   "source": [
    "img = cv2.imread(\"/Users/xuyameng/Desktop/hb_0619_jf/rice_jf_positive_1.png\",0)"
   ]
  },
  {
   "cell_type": "code",
   "execution_count": 13,
   "metadata": {},
   "outputs": [],
   "source": [
    "import matplotlib.pyplot as plt"
   ]
  },
  {
   "cell_type": "code",
   "execution_count": 14,
   "metadata": {},
   "outputs": [
    {
     "data": {
      "text/plain": [
       "<matplotlib.image.AxesImage at 0x10af6a898>"
      ]
     },
     "execution_count": 14,
     "metadata": {},
     "output_type": "execute_result"
    },
    {
     "data": {
      "image/png": "[encoded data removed]",
      "text/plain": [
       "<Figure size 432x288 with 1 Axes>"
      ]
     },
     "metadata": {
      "needs_background": "light"
     },
     "output_type": "display_data"
    }
   ],
   "source": [
    "plt.imshow(img)"
   ]
  },
  {
   "cell_type": "code",
   "execution_count": null,
   "metadata": {},
   "outputs": [],
   "source": []
  }
 ],
 "metadata": {
  "kernelspec": {
   "display_name": "Python 3",
   "language": "python",
   "name": "python3"
  },
  "language_info": {
   "codemirror_mode": {
    "name": "ipython",
    "version": 3
   },
   "file_extension": ".py",
   "mimetype": "text/x-python",
   "name": "python",
   "nbconvert_exporter": "python",
   "pygments_lexer": "ipython3",
   "version": "3.7.3"
  }
 },
 "nbformat": 4,
 "nbformat_minor": 2
}
