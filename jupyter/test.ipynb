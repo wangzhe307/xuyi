{
 "cells": [
  {
   "cell_type": "code",
   "execution_count": 1,
   "metadata": {},
   "outputs": [
    {
     "ename": "ModuleNotFoundError",
     "evalue": "No module named 'cv2'",
     "output_type": "error",
     "traceback": [
      "\u001b[0;31m---------------------------------------------------------------------------\u001b[0m",
      "\u001b[0;31mModuleNotFoundError\u001b[0m                       Traceback (most recent call last)",
      "\u001b[0;32m<ipython-input-1-e20f5c58c11a>\u001b[0m in \u001b[0;36m<module>\u001b[0;34m\u001b[0m\n\u001b[0;32m----> 1\u001b[0;31m \u001b[0;32mimport\u001b[0m \u001b[0mcv2\u001b[0m\u001b[0;34m\u001b[0m\u001b[0;34m\u001b[0m\u001b[0m\n\u001b[0m\u001b[1;32m      2\u001b[0m \u001b[0;32mimport\u001b[0m \u001b[0mnumpy\u001b[0m \u001b[0;32mas\u001b[0m \u001b[0mnp\u001b[0m\u001b[0;34m\u001b[0m\u001b[0;34m\u001b[0m\u001b[0m\n\u001b[1;32m      3\u001b[0m \u001b[0;32mfrom\u001b[0m \u001b[0mskimage\u001b[0m\u001b[0;34m.\u001b[0m\u001b[0mexternal\u001b[0m \u001b[0;32mimport\u001b[0m \u001b[0mtifffile\u001b[0m \u001b[0;32mas\u001b[0m \u001b[0mtiff\u001b[0m\u001b[0;34m\u001b[0m\u001b[0;34m\u001b[0m\u001b[0m\n",
      "\u001b[0;31mModuleNotFoundError\u001b[0m: No module named 'cv2'"
     ]
    }
   ],
   "source": [
    "import cv2\n",
    "import numpy as np\n",
    "from skimage.external import tifffile as tiff"
   ]
  },
  {
   "cell_type": "code",
   "execution_count": 2,
   "metadata": {},
   "outputs": [],
   "source": [
    "img = cv2.imread(\"/Users/wanggang/Desktop/0412/resss.png\",0)\n",
    "fz = tiff.imread(\"/Users/wanggang/Desktop/0412/0412.tif\")\n",
    "op = cv2.imread(\"/Users/wanggang/Desktop/sec.png\",0)"
   ]
  },
  {
   "cell_type": "code",
   "execution_count": 3,
   "metadata": {},
   "outputs": [],
   "source": [
    "tt = np.zeros((img.shape[0],img.shape[1]))"
   ]
  },
  {
   "cell_type": "code",
   "execution_count": 4,
   "metadata": {},
   "outputs": [],
   "source": [
    "rr = op - img "
   ]
  },
  {
   "cell_type": "code",
   "execution_count": 5,
   "metadata": {},
   "outputs": [],
   "source": [
    "tt[rr==1]=1"
   ]
  },
  {
   "cell_type": "code",
   "execution_count": 6,
   "metadata": {},
   "outputs": [],
   "source": [
    "m = np.zeros((img.shape[0],img.shape[1]))"
   ]
  },
  {
   "cell_type": "code",
   "execution_count": 7,
   "metadata": {},
   "outputs": [],
   "source": [
    "m[fz==2]=1"
   ]
  },
  {
   "cell_type": "code",
   "execution_count": 8,
   "metadata": {},
   "outputs": [],
   "source": [
    "rpp = np.zeros((img.shape[0],img.shape[1]))"
   ]
  },
  {
   "cell_type": "code",
   "execution_count": 9,
   "metadata": {},
   "outputs": [],
   "source": [
    "ii = tt - m"
   ]
  },
  {
   "cell_type": "code",
   "execution_count": 10,
   "metadata": {},
   "outputs": [],
   "source": [
    "rpp[ii==1]=1"
   ]
  },
  {
   "cell_type": "code",
   "execution_count": 11,
   "metadata": {},
   "outputs": [
    {
     "data": {
      "text/plain": [
       "True"
      ]
     },
     "execution_count": 11,
     "metadata": {},
     "output_type": "execute_result"
    }
   ],
   "source": [
    "cv2.imwrite(\"/Users/wanggang/Desktop/smal.png\",rpp)"
   ]
  },
  {
   "cell_type": "code",
   "execution_count": 22,
   "metadata": {},
   "outputs": [],
   "source": [
    "aas = tiff.imread(\"/Users/wanggang/Desktop/jf.tif\")\n",
    "assr = cv2.imread(\"/Users/wanggang/Desktop/LC08_L1TP_121040_20150402_20170411_01_T1_mergedy.png\",0)"
   ]
  },
  {
   "cell_type": "code",
   "execution_count": 23,
   "metadata": {},
   "outputs": [],
   "source": [
    "aat = np.zeros((aas.shape[0],aas.shape[1]))"
   ]
  },
  {
   "cell_type": "code",
   "execution_count": 24,
   "metadata": {},
   "outputs": [],
   "source": [
    "jj = aas-assr"
   ]
  },
  {
   "cell_type": "code",
   "execution_count": 25,
   "metadata": {},
   "outputs": [],
   "source": [
    "aat[jj==1]=1"
   ]
  },
  {
   "cell_type": "code",
   "execution_count": 26,
   "metadata": {},
   "outputs": [
    {
     "data": {
      "text/plain": [
       "True"
      ]
     },
     "execution_count": 26,
     "metadata": {},
     "output_type": "execute_result"
    }
   ],
   "source": [
    "cv2.imwrite(\"/Users/wanggang/Desktop/jj.png\",aat)"
   ]
  },
  {
   "cell_type": "code",
   "execution_count": 1,
   "metadata": {},
   "outputs": [],
   "source": [
    "import cv2\n",
    "import glob\n",
    "import numpy as np\n",
    "import matplotlib.pyplot as plt"
   ]
  },
  {
   "cell_type": "code",
   "execution_count": 2,
   "metadata": {},
   "outputs": [],
   "source": [
    "file_name = glob.glob(\"/Users/wanggang/Desktop/20180801/shp2png/*.png\")"
   ]
  },
  {
   "cell_type": "code",
   "execution_count": 3,
   "metadata": {},
   "outputs": [
    {
     "data": {
      "text/plain": [
       "['/Users/wanggang/Desktop/20180801/shp2png/corn_negtive.png',\n",
       " '/Users/wanggang/Desktop/20180801/shp2png/hill_positive.png',\n",
       " '/Users/wanggang/Desktop/20180801/shp2png/dadou_negtive.png',\n",
       " '/Users/wanggang/Desktop/20180801/shp2png/cloud_positive.png',\n",
       " '/Users/wanggang/Desktop/20180801/shp2png/dadou_positive.png',\n",
       " '/Users/wanggang/Desktop/20180801/shp2png/water_positive.png',\n",
       " '/Users/wanggang/Desktop/20180801/shp2png/corn_positive.png']"
      ]
     },
     "execution_count": 3,
     "metadata": {},
     "output_type": "execute_result"
    }
   ],
   "source": [
    "file_name"
   ]
  },
  {
   "cell_type": "code",
   "execution_count": 4,
   "metadata": {},
   "outputs": [],
   "source": [
    "file_list=['/Users/wanggang/Desktop/20180801/shp2png/water_positive.png',\n",
    "           '/Users/wanggang/Desktop/20180801/shp2png/dadou_positive.png',\n",
    "           '/Users/wanggang/Desktop/20180801/shp2png/cloud_positive.png',\n",
    "           '/Users/wanggang/Desktop/20180801/shp2png/hill_positive.png',\n",
    "           '/Users/wanggang/Desktop/20180801/shp2png/corn_positive.png']"
   ]
  },
  {
   "cell_type": "code",
   "execution_count": 5,
   "metadata": {},
   "outputs": [],
   "source": [
    "file_list.remove('/Users/wanggang/Desktop/20180801/shp2png/cloud_positive.png')"
   ]
  },
  {
   "cell_type": "code",
   "execution_count": 6,
   "metadata": {},
   "outputs": [
    {
     "data": {
      "text/plain": [
       "['/Users/wanggang/Desktop/20180801/shp2png/water_positive.png',\n",
       " '/Users/wanggang/Desktop/20180801/shp2png/dadou_positive.png',\n",
       " '/Users/wanggang/Desktop/20180801/shp2png/hill_positive.png',\n",
       " '/Users/wanggang/Desktop/20180801/shp2png/corn_positive.png']"
      ]
     },
     "execution_count": 6,
     "metadata": {},
     "output_type": "execute_result"
    }
   ],
   "source": [
    "file_list"
   ]
  },
  {
   "cell_type": "code",
   "execution_count": 7,
   "metadata": {},
   "outputs": [],
   "source": [
    "temp = cv2.imread(\"/Users/wanggang/Desktop/20180801/shp2png/cloud_positive.png\",0)"
   ]
  },
  {
   "cell_type": "code",
   "execution_count": 8,
   "metadata": {},
   "outputs": [],
   "source": [
    "res = np.zeros((temp.shape[0],temp.shape[1]))"
   ]
  },
  {
   "cell_type": "code",
   "execution_count": 9,
   "metadata": {},
   "outputs": [
    {
     "name": "stdout",
     "output_type": "stream",
     "text": [
      "/Users/wanggang/Desktop/20180801/shp2png/water_positive.png\n",
      "/Users/wanggang/Desktop/20180801/shp2png/dadou_positive.png\n",
      "/Users/wanggang/Desktop/20180801/shp2png/hill_positive.png\n",
      "/Users/wanggang/Desktop/20180801/shp2png/corn_positive.png\n"
     ]
    }
   ],
   "source": [
    "for i in file_list:\n",
    "    print(i)\n",
    "    mask = cv2.imread(i,0)\n",
    "    res+=mask"
   ]
  },
  {
   "cell_type": "code",
   "execution_count": 10,
   "metadata": {},
   "outputs": [
    {
     "data": {
      "text/plain": [
       "<matplotlib.image.AxesImage at 0x154eb4c18>"
      ]
     },
     "execution_count": 10,
     "metadata": {},
     "output_type": "execute_result"
    },
    {
     "data": {
      "image/png": "[encoded data removed]",
      "text/plain": [
       "<Figure size 432x288 with 1 Axes>"
      ]
     },
     "metadata": {
      "needs_background": "light"
     },
     "output_type": "display_data"
    }
   ],
   "source": [
    "plt.imshow(res)"
   ]
  },
  {
   "cell_type": "code",
   "execution_count": 11,
   "metadata": {},
   "outputs": [
    {
     "data": {
      "text/plain": [
       "True"
      ]
     },
     "execution_count": 11,
     "metadata": {},
     "output_type": "execute_result"
    }
   ],
   "source": [
    "cv2.imwrite(\"/Users/wanggang/Desktop/20180801/shp2png/cloud_negtive.png\",res)"
   ]
  },
  {
   "cell_type": "code",
   "execution_count": 37,
   "metadata": {},
   "outputs": [],
   "source": [
    "from skimage.external import tifffile as tiff\n",
    "import cv2\n",
    "import numpy as np\n",
    "import matplotlib.pyplot as plt"
   ]
  },
  {
   "cell_type": "code",
   "execution_count": 38,
   "metadata": {},
   "outputs": [],
   "source": [
    "def option14(bigimg,img):\n",
    "    tmpImg = np.zeros((img.shape[0],img.shape[1]))\n",
    "    tmpImg[img==0]=0\n",
    "    tmpImg[img==1]=1\n",
    "    npm = np.zeros((img.shape[0],img.shape[1],7))\n",
    "    for i in range(7):\n",
    "        npm[:,:,i]=tmpImg\n",
    "    npm[bigimg==0]=0\n",
    "    return npm[:,:,0]"
   ]
  },
  {
   "cell_type": "code",
   "execution_count": 39,
   "metadata": {},
   "outputs": [],
   "source": [
    "imgg  = tiff.imread(\"/Users/wanggang/Desktop/2015/tif_res/cloud_chengshu.tif\")\n",
    "ditu = tiff.imread(\"/Users/wanggang/Desktop/jianfengbiaozhu/LC81210402015156LGN00_merge.tif\")"
   ]
  },
  {
   "cell_type": "code",
   "execution_count": 40,
   "metadata": {},
   "outputs": [],
   "source": [
    "res = option14(ditu,imgg)"
   ]
  },
  {
   "cell_type": "code",
   "execution_count": 41,
   "metadata": {},
   "outputs": [
    {
     "data": {
      "text/plain": [
       "<matplotlib.image.AxesImage at 0x175b61d30>"
      ]
     },
     "execution_count": 41,
     "metadata": {},
     "output_type": "execute_result"
    },
    {
     "data": {
      "image/png": "[encoded data removed]",
      "text/plain": [
       "<Figure size 432x288 with 1 Axes>"
      ]
     },
     "metadata": {
      "needs_background": "light"
     },
     "output_type": "display_data"
    }
   ],
   "source": [
    "plt.imshow(res)"
   ]
  },
  {
   "cell_type": "code",
   "execution_count": 42,
   "metadata": {},
   "outputs": [
    {
     "data": {
      "text/plain": [
       "True"
      ]
     },
     "execution_count": 42,
     "metadata": {},
     "output_type": "execute_result"
    }
   ],
   "source": [
    "cv2.imwrite(\"/Users/wanggang/Desktop/2015/tif_res/cloudTP.png\",res)"
   ]
  },
  {
   "cell_type": "code",
   "execution_count": 32,
   "metadata": {},
   "outputs": [],
   "source": [
    "ch = tiff.imread(\"/Users/wanggang/Desktop/2015/get.tif\")"
   ]
  },
  {
   "cell_type": "code",
   "execution_count": 33,
   "metadata": {},
   "outputs": [],
   "source": [
    "tm = np.zeros((ch.shape[0],ch.shape[1]))"
   ]
  },
  {
   "cell_type": "code",
   "execution_count": 34,
   "metadata": {},
   "outputs": [
    {
     "data": {
      "text/plain": [
       "array([0, 2], dtype=uint16)"
      ]
     },
     "execution_count": 34,
     "metadata": {},
     "output_type": "execute_result"
    }
   ],
   "source": [
    "np.unique(ch)"
   ]
  },
  {
   "cell_type": "code",
   "execution_count": 35,
   "metadata": {},
   "outputs": [],
   "source": [
    "tm[ch==2]=1"
   ]
  },
  {
   "cell_type": "code",
   "execution_count": 36,
   "metadata": {},
   "outputs": [
    {
     "data": {
      "text/plain": [
       "True"
      ]
     },
     "execution_count": 36,
     "metadata": {},
     "output_type": "execute_result"
    }
   ],
   "source": [
    "cv2.imwrite(\"/Users/wanggang/Desktop/2015/png_res/cloud_png.png\",tm)"
   ]
  },
  {
   "cell_type": "code",
   "execution_count": 53,
   "metadata": {},
   "outputs": [],
   "source": [
    "def get_bool(str1,str2):\n",
    "    s1 = set(str1)\n",
    "    s2 = set(str2)\n",
    "    base1 = s2 if len(s1)>=len(s2) else s1\n",
    "    base2 = s1 if len(s1)>=len(s2) else s2\n",
    "    count = 0\n",
    "    for i in base1:\n",
    "        if i in base2:\n",
    "            count+=1\n",
    "    return count==len(base1)"
   ]
  },
  {
   "cell_type": "code",
   "execution_count": 54,
   "metadata": {},
   "outputs": [
    {
     "data": {
      "text/plain": [
       "True"
      ]
     },
     "execution_count": 54,
     "metadata": {},
     "output_type": "execute_result"
    }
   ],
   "source": [
    "get_bool(\"langyantg\",\"aaaaaaaaaaaaaa\")"
   ]
  },
  {
   "cell_type": "code",
   "execution_count": 1,
   "metadata": {},
   "outputs": [],
   "source": [
    "import cv2\n",
    "import numpy as np"
   ]
  },
  {
   "cell_type": "code",
   "execution_count": 2,
   "metadata": {},
   "outputs": [],
   "source": [
    "img_ml = cv2.imread(\"/Users/xuyameng/Desktop/sc_0715_jf/mature_0715.png\",0)\n",
    "img_dl = cv2.imread(\"/Users/xuyameng/Desktop/sc_0715_jf/LC08_L1TP_128039_20140806_20170420_01_T1_merge_align0716.png\",0)"
   ]
  },
  {
   "cell_type": "code",
   "execution_count": 5,
   "metadata": {},
   "outputs": [
    {
     "data": {
      "text/plain": [
       "True"
      ]
     },
     "execution_count": 5,
     "metadata": {},
     "output_type": "execute_result"
    }
   ],
   "source": [
    "tmp = np.zeros((img_ml.shape[0],img_ml.shape[1]))\n",
    "cc = img_ml-img_dl\n",
    "tmp[cc==1]=1\n",
    "cv2.imwrite(\"/Users/xuyameng/Desktop/sc_0715_jf/more.png\",tmp)"
   ]
  },
  {
   "cell_type": "code",
   "execution_count": 4,
   "metadata": {},
   "outputs": [],
   "source": [
    "import matplotlib.pyplot as plt"
   ]
  },
  {
   "cell_type": "code",
   "execution_count": null,
   "metadata": {},
   "outputs": [],
   "source": [
    "plt.imshow()"
   ]
  },
  {
   "cell_type": "code",
   "execution_count": 41,
   "metadata": {},
   "outputs": [
    {
     "name": "stdout",
     "output_type": "stream",
     "text": [
      "\n"
     ]
    }
   ],
   "source": [
    "f=open(\"/Users/xuyameng/Desktop/baxi_agenting/baxi.txt\",\"r\")\n",
    "pathrow=f.read()\n",
    "print(pathrow)"
   ]
  },
  {
   "cell_type": "code",
   "execution_count": 1,
   "metadata": {},
   "outputs": [
    {
     "data": {
      "text/plain": [
       "'/Users/xuyameng/Desktop/jupyter'"
      ]
     },
     "execution_count": 1,
     "metadata": {},
     "output_type": "execute_result"
    }
   ],
   "source": [
    "pwd"
   ]
  },
  {
   "cell_type": "code",
   "execution_count": 2,
   "metadata": {},
   "outputs": [
    {
     "name": "stdout",
     "output_type": "stream",
     "text": [
      "['001057\\n', '001058\\n', '001059\\n', '001060\\n', '001061\\n', '001062\\n', '001063\\n', '001064\\n', '001065\\n', '001066\\n', '001067\\n', '001068\\n', '002057\\n', '002059\\n', '002060\\n', '002061\\n', '002062\\n', '002063\\n', '002064\\n', '002065\\n', '002066\\n', '002067\\n', '002068\\n', '003058\\n', '003059\\n', '003060\\n', '003061\\n', '003062\\n', '003063\\n', '003064\\n', '003065\\n', '003066\\n', '003067\\n', '003068\\n', '004059\\n', '004060\\n', '004061\\n', '004062\\n', '004063\\n', '004064\\n', '004065\\n', '004066\\n', '004067\\n', '005059\\n', '005060\\n', '005063\\n', '005064\\n', '005065\\n', '005066\\n', '005067\\n', '006063\\n', '006064\\n', '006065\\n', '006066\\n', '208074\\n', '213063\\n', '214063\\n', '214064\\n', '214065\\n', '214066\\n', '214067\\n', '214068\\n', '215063\\n', '215064\\n', '215065\\n', '215066\\n', '215067\\n', '215068\\n', '215069\\n', '215070\\n', '215071\\n', '215072\\n', '215073\\n', '215074\\n', '215075\\n', '216063\\n', '216064\\n', '216065\\n', '216066\\n', '216067\\n', '216068\\n', '216069\\n', '216070\\n', '216071\\n', '216072\\n', '216073\\n', '216074\\n', '216075\\n', '216076\\n', '217062\\n', '217063\\n', '217064\\n', '217065\\n', '217066\\n', '217067\\n', '217068\\n', '217069\\n', '217070\\n', '217071\\n', '217072\\n', '217073\\n', '217074\\n', '217075\\n', '217076\\n', '218062\\n', '218063\\n', '218064\\n', '218065\\n', '218066\\n', '218067\\n', '218068\\n', '218069\\n', '218070\\n', '218071\\n', '218072\\n', '218073\\n', '218074\\n', '218075\\n', '218076\\n', '218077\\n', '219062\\n', '219063\\n', '219064\\n', '219065\\n', '219066\\n', '219067\\n', '219068\\n', '219069\\n', '219070\\n', '219071\\n', '219072\\n', '219073\\n', '219074\\n', '219075\\n', '219076\\n', '219077\\n', '219078\\n', '219079\\n', '219080\\n', '220062\\n', '220063\\n', '220064\\n', '220065\\n', '220066\\n', '220067\\n', '220068\\n', '220069\\n', '220070\\n', '220071\\n', '220072\\n', '220073\\n', '220074\\n', '220075\\n', '220076\\n', '220077\\n', '220078\\n', '220079\\n', '220080\\n', '220081\\n', '220082\\n', '221061\\n', '221062\\n', '221063\\n', '221064\\n', '221065\\n', '221066\\n', '221067\\n', '221068\\n', '221069\\n', '221070\\n', '221071\\n', '221072\\n', '221073\\n', '221074\\n', '221075\\n', '221076\\n', '221077\\n', '221078\\n', '221079\\n', '221080\\n', '221081\\n', '221082\\n', '221083\\n', '221084\\n', '222061\\n', '222062\\n', '222063\\n', '222064\\n', '222065\\n', '222066\\n', '222067\\n', '222068\\n', '222069\\n', '222070\\n', '222071\\n', '222072\\n', '222073\\n', '222074\\n', '222075\\n', '222076\\n', '222077\\n', '222078\\n', '222079\\n', '222080\\n', '222081\\n', '222082\\n', '222083\\n', '223060\\n', '223061\\n', '223062\\n', '223063\\n', '223064\\n', '223065\\n', '223066\\n', '223067\\n', '223068\\n', '223069\\n', '223070\\n', '223071\\n', '223072\\n', '223073\\n', '223074\\n', '223075\\n', '223076\\n', '223077\\n', '223078\\n', '223079\\n', '223080\\n', '223081\\n', '223082\\n', '224060\\n', '224061\\n', '224062\\n', '224063\\n', '224064\\n', '224065\\n', '224066\\n', '224067\\n', '224068\\n', '224069\\n', '224070\\n', '224071\\n', '224072\\n', '224073\\n', '224074\\n', '224075\\n', '224076\\n', '224077\\n', '224078\\n', '224079\\n', '224080\\n', '224081\\n', '224082\\n', '225058\\n', '225059\\n', '225060\\n', '225061\\n', '225062\\n', '225063\\n', '225064\\n', '225065\\n', '225066\\n', '225067\\n', '225068\\n', '225069\\n', '225070\\n', '225071\\n', '225072\\n', '225073\\n', '225074\\n', '225075\\n', '225076\\n', '225077\\n', '225080\\n', '225081\\n', '226057\\n', '226058\\n', '226059\\n', '226060\\n', '226061\\n', '226062\\n', '226063\\n', '226064\\n', '226065\\n', '226066\\n', '226067\\n', '226068\\n', '226069\\n', '226070\\n', '226071\\n', '226072\\n', '226073\\n', '226074\\n', '226075\\n', '227058\\n', '227059\\n', '227060\\n', '227061\\n', '227062\\n', '227063\\n', '227064\\n', '227065\\n', '227066\\n', '227067\\n', '227068\\n', '227069\\n', '227070\\n', '227071\\n', '227072\\n', '227073\\n', '227074\\n', '227075\\n', '228058\\n', '228059\\n', '228060\\n', '228061\\n', '228062\\n', '228063\\n', '228064\\n', '228065\\n', '228066\\n', '228067\\n', '228068\\n', '228069\\n', '228070\\n', '228071\\n', '228072\\n', '229058\\n', '229059\\n', '229060\\n', '229061\\n', '229062\\n', '229063\\n', '229064\\n', '229065\\n', '229066\\n', '229067\\n', '229068\\n', '229069\\n', '229070\\n', '229071\\n', '230059\\n', '230060\\n', '230061\\n', '230062\\n', '230063\\n', '230064\\n', '230065\\n', '230066\\n', '230067\\n', '230068\\n', '230069\\n', '231057\\n', '231058\\n', '231059\\n', '231060\\n', '231061\\n', '231062\\n', '231063\\n', '231064\\n', '231065\\n', '231066\\n', '231067\\n', '231068\\n', '231069\\n', '232056\\n', '232057\\n', '232058\\n', '232059\\n', '232060\\n', '232061\\n', '232062\\n', '232063\\n', '232064\\n', '232065\\n', '232066\\n', '232067\\n', '232068\\n', '232069\\n', '233057\\n', '233058\\n', '233059\\n', '233060\\n', '233061\\n', '233062\\n', '233063\\n', '233064\\n', '233065\\n', '233066\\n', '233067\\n', '233068\\n']\n"
     ]
    }
   ],
   "source": [
    "writing=[]\n",
    "path=[]\n",
    "row=[]\n",
    "t=open(\"/Users/xuyameng/Desktop/nanmei/brazil.txt\",'w')\n",
    "with open(\"/Users/xuyameng/Desktop/nanmei/baxi.txt\",'r+') as f:\n",
    "    txt=f.readlines()\n",
    "    new_lines=list(set(txt))\n",
    "    \n",
    "    #print(neww_lines)\n",
    "    for pathrow in new_lines:\n",
    "        path=pathrow.split(\" \")[0]\n",
    "        row=pathrow.split(\" \")[1]\n",
    "        path_list=list(path)\n",
    "        row_list=list(row)\n",
    "        row_list.insert(0,'0')\n",
    "        if len(path_list)<3:\n",
    "            path_list.insert(0,'0')\n",
    "            path_list.insert(1,'0')\n",
    "        new_path_list=''.join(path_list)\n",
    "        new_row_list=''.join(row_list)    \n",
    "        result=new_path_list+new_row_list\n",
    "        writing.append(result)\n",
    "        #print(new_path_list,new_row_list,result)\n",
    "for i in sorted(writing):\n",
    "    t.write(i)\n",
    "t.close()\n",
    "print(sorted(writing))\n",
    "\n",
    "        \n",
    "    "
   ]
  },
  {
   "cell_type": "code",
   "execution_count": 3,
   "metadata": {},
   "outputs": [
    {
     "name": "stdout",
     "output_type": "stream",
     "text": [
      "223078\n",
      "\n",
      "223079\n",
      "\n",
      "223085\n",
      "\n",
      "223086\n",
      "\n",
      "223087\n",
      "\n",
      "223098\n",
      "\n",
      "224078\n",
      "\n",
      "224079\n",
      "\n",
      "224080\n",
      "\n",
      "224081\n",
      "\n",
      "224084\n",
      "\n",
      "224085\n",
      "\n",
      "224086\n",
      "\n",
      "224087\n",
      "\n",
      "224098\n",
      "\n",
      "224099\n",
      "\n",
      "225079\n",
      "\n",
      "225080\n",
      "\n",
      "225081\n",
      "\n",
      "225082\n",
      "\n",
      "225083\n",
      "\n",
      "225084\n",
      "\n",
      "225085\n",
      "\n",
      "225086\n",
      "\n",
      "225087\n",
      "\n",
      "225098\n",
      "\n",
      "226077\n",
      "\n",
      "226078\n",
      "\n",
      "226079\n",
      "\n",
      "226080\n",
      "\n",
      "226081\n",
      "\n",
      "226082\n",
      "\n",
      "226083\n",
      "\n",
      "226084\n",
      "\n",
      "226085\n",
      "\n",
      "226086\n",
      "\n",
      "226087\n",
      "\n",
      "226088\n",
      "\n",
      "226089\n",
      "\n",
      "226090\n",
      "\n",
      "226093\n",
      "\n",
      "226094\n",
      "\n",
      "226097\n",
      "\n",
      "226098\n",
      "\n",
      "227077\n",
      "\n",
      "227078\n",
      "\n",
      "227079\n",
      "\n",
      "227080\n",
      "\n",
      "227081\n",
      "\n",
      "227082\n",
      "\n",
      "227083\n",
      "\n",
      "227084\n",
      "\n",
      "227085\n",
      "\n",
      "227086\n",
      "\n",
      "227087\n",
      "\n",
      "227088\n",
      "\n",
      "227089\n",
      "\n",
      "227090\n",
      "\n",
      "227091\n",
      "\n",
      "227092\n",
      "\n",
      "227093\n",
      "\n",
      "227094\n",
      "\n",
      "227095\n",
      "\n",
      "227096\n",
      "\n",
      "227097\n",
      "\n",
      "227098\n",
      "\n",
      "228076\n",
      "\n",
      "228077\n",
      "\n",
      "228078\n",
      "\n",
      "228079\n",
      "\n",
      "228080\n",
      "\n",
      "228081\n",
      "\n",
      "228082\n",
      "\n",
      "228083\n",
      "\n",
      "228084\n",
      "\n",
      "228085\n",
      "\n",
      "228086\n",
      "\n",
      "228087\n",
      "\n",
      "228088\n",
      "\n",
      "228089\n",
      "\n",
      "228090\n",
      "\n",
      "228091\n",
      "\n",
      "228092\n",
      "\n",
      "228093\n",
      "\n",
      "228094\n",
      "\n",
      "228095\n",
      "\n",
      "228096\n",
      "\n",
      "228097\n",
      "\n",
      "229075\n",
      "\n",
      "229076\n",
      "\n",
      "229077\n",
      "\n",
      "229078\n",
      "\n",
      "229079\n",
      "\n",
      "229080\n",
      "\n",
      "229081\n",
      "\n",
      "229082\n",
      "\n",
      "229083\n",
      "\n",
      "229084\n",
      "\n",
      "229085\n",
      "\n",
      "229086\n",
      "\n",
      "229087\n",
      "\n",
      "229088\n",
      "\n",
      "229089\n",
      "\n",
      "229090\n",
      "\n",
      "229091\n",
      "\n",
      "229092\n",
      "\n",
      "229093\n",
      "\n",
      "229094\n",
      "\n",
      "229095\n",
      "\n",
      "229096\n",
      "\n",
      "230075\n",
      "\n",
      "230076\n",
      "\n",
      "230077\n",
      "\n",
      "230078\n",
      "\n",
      "230079\n",
      "\n",
      "230080\n",
      "\n",
      "230081\n",
      "\n",
      "230082\n",
      "\n",
      "230083\n",
      "\n",
      "230084\n",
      "\n",
      "230085\n",
      "\n",
      "230086\n",
      "\n",
      "230087\n",
      "\n",
      "230088\n",
      "\n",
      "230089\n",
      "\n",
      "230090\n",
      "\n",
      "230091\n",
      "\n",
      "230092\n",
      "\n",
      "230093\n",
      "\n",
      "230094\n",
      "\n",
      "230095\n",
      "\n",
      "230096\n",
      "\n",
      "231075\n",
      "\n",
      "231076\n",
      "\n",
      "231077\n",
      "\n",
      "231078\n",
      "\n",
      "231079\n",
      "\n",
      "231080\n",
      "\n",
      "231081\n",
      "\n",
      "231082\n",
      "\n",
      "231083\n",
      "\n",
      "231084\n",
      "\n",
      "231085\n",
      "\n",
      "231086\n",
      "\n",
      "231087\n",
      "\n",
      "231088\n",
      "\n",
      "231089\n",
      "\n",
      "231090\n",
      "\n",
      "231091\n",
      "\n",
      "231092\n",
      "\n",
      "231093\n",
      "\n",
      "231094\n",
      "\n",
      "231095\n",
      "\n",
      "231096\n",
      "\n",
      "232075\n",
      "\n",
      "232076\n",
      "\n",
      "232077\n",
      "\n",
      "232078\n",
      "\n",
      "232079\n",
      "\n",
      "232080\n",
      "\n",
      "232081\n",
      "\n",
      "232082\n",
      "\n",
      "232083\n",
      "\n",
      "232084\n",
      "\n",
      "232085\n",
      "\n",
      "232086\n",
      "\n",
      "232087\n",
      "\n",
      "232088\n",
      "\n",
      "232089\n",
      "\n",
      "232090\n",
      "\n",
      "232091\n",
      "\n",
      "232094\n",
      "\n",
      "232095\n",
      "\n",
      "233076\n",
      "\n",
      "233077\n",
      "\n",
      "233078\n",
      "\n",
      "233079\n",
      "\n",
      "233080\n",
      "\n",
      "233081\n",
      "\n",
      "233082\n",
      "\n",
      "233083\n",
      "\n",
      "233084\n",
      "\n",
      "233085\n",
      "\n",
      "233086\n",
      "\n",
      "233087\n",
      "\n",
      "233088\n",
      "\n"
     ]
    }
   ],
   "source": [
    "f=open(\"/Users/xuyameng/Desktop/nanmei/agenting.txt\",'r+')\n",
    "w=open(\"/Users/xuyameng/Desktop/nanmei/argenting.txt\",'w')\n",
    "lines=f.readlines()\n",
    "result=[]\n",
    "new_list=list(set(lines))\n",
    "\n",
    "for line in new_list:\n",
    "    new_line=list(line)\n",
    "    new_line[3]='0'\n",
    "    \n",
    "    #print(new_line)\n",
    "    list3=\"\".join(new_line)\n",
    "    #print(list3)\n",
    "    result.append(list3)\n",
    "    \n",
    "#print(sorted(result))\n",
    "for i in sorted(result):\n",
    "    w.write(i)\n",
    "    print(i)\n",
    "    \n",
    "# print()\n",
    "\n",
    "w.close()\n",
    "f.close()"
   ]
  },
  {
   "cell_type": "code",
   "execution_count": null,
   "metadata": {},
   "outputs": [],
   "source": []
  },
  {
   "cell_type": "code",
   "execution_count": null,
   "metadata": {},
   "outputs": [],
   "source": []
  }
 ],
 "metadata": {
  "kernelspec": {
   "display_name": "Python 3",
   "language": "python",
   "name": "python3"
  },
  "language_info": {
   "codemirror_mode": {
    "name": "ipython",
    "version": 3
   },
   "file_extension": ".py",
   "mimetype": "text/x-python",
   "name": "python",
   "nbconvert_exporter": "python",
   "pygments_lexer": "ipython3",
   "version": "3.7.3"
  }
 },
 "nbformat": 4,
 "nbformat_minor": 2
}
